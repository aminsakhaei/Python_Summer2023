{
 "cells": [
  {
   "cell_type": "markdown",
   "id": "56c81e41",
   "metadata": {},
   "source": [
    "# Introduction To Programming With Python\n",
    "\n",
    "Jupyter notebook by Amin Sakhaei, Pouya Taghipour\n",
    "\n",
    "Summer 2023\n",
    "\n",
    "------------------------------------------------------------------------\n",
    "\n",
    "Hey there! In this course, we'll dive into the world of Python and explore the basic principles of coding within this environment. We'll use examples to make learning more engaging and understandable. By the end of it, you'll have the know-how to start your own exciting Python projects.\n",
    "\n",
    "If you have any more requests or need further assistance, feel free to ask. Good luck with your programming adventures!\n",
    "\n",
    "In this tutorial, we will cover:\n",
    "- Introduction\n",
    "- Variables and Data Types\n",
    "- Operators and Expressions\n",
    "- Conditional sentences\n",
    "- Functions\n",
    "- Error Handling\n",
    "- Repeat loops\n",
    "- Exploring Strings\n",
    "- Data Structures\n",
    "- File Handling\n",
    "- OOP\n",
    "- Python Modules: Numpy, Mtplotlib, OpenCV, Pandas\n",
    "\n",
    "## Introduction\n",
    "### What is Python?\n",
    "\n",
    "Python is a fantastic programming language known for it's simplicity, readability, and a treasure trove of libraries. Guido van Rossum gave birth to Python in 1991, and it's now a go-to for many due to its versatility.\n",
    "\n",
    "Python can handle tasks from fixing up images and signals to working on artificial intelligence and building the back-end of cool apps. It's like the superhero of programming! What's really cool is it's clean and clear way of writing code, making it a breeze to read and maintain. So, whether you're just starting out or a coding pro, Python's got your back.\n",
    "\n",
    "### Python Versions\n",
    "\n",
    "When you're picking a Python version for your learning journey, it's smart to go for the latest stable release in the Python 3 series. Right now, the big focus is on Python 3.13, showing us where the language is headed and all the cool new stuff it's getting. You can easily find the newest release for each Python version on the download page.\n",
    "https://www.python.org/downloads/\n",
    "\n",
    "One thing to keep in mind is that Python 3.0 made some big changes that aren't backward-compatible. So, code written for the older versions might not work smoothly on the newer ones, and vice versa.\n",
    "\n",
    "To check what Python version you've got, just type python --version in your command line. If you're using Jupyter notebook, use !python --version.\n",
    "(by the way, starting from Python 3.8, they stopped supporting Windows 7.)\n",
    "\n",
    "As you can see in the section below, we're using Python version 3.9.13 for in tutorial."
   ]
  },
  {
   "cell_type": "code",
   "execution_count": 1,
   "id": "c24d309f",
   "metadata": {},
   "outputs": [
    {
     "name": "stdout",
     "output_type": "stream",
     "text": [
      "Python 3.9.13\n"
     ]
    }
   ],
   "source": [
    "!python --version"
   ]
  },
  {
   "cell_type": "markdown",
   "id": "c5a6363d",
   "metadata": {},
   "source": [
    "## Variables and Data Type\n",
    "\n",
    "### Variables\n",
    "\n",
    "Python variables is a fundamental concept. In Python, a variable acts as a named container, storing data values within the computer's memory. This feature empowers you to efficiently manage, manipulate, and access data within your code.\n",
    "Here are the rules for naming variables in Python:\n",
    "\n",
    "- The name must commence with a letter (either lowercase or uppercase) or an underscore (_).\n",
    "- Following this, you may use letters, digits (0-9), or underscores.\n",
    "- Python is case-sensitive, discerning between 'myVar' and 'myvar.'\n",
    "- Avoid using reserved keywords (if, while, for ,...) as variable names.\n",
    "\n",
    "### Data Types\n",
    "\n",
    "In Python, an array of data types provides to various data categories, each designed to fulfill specific programming requirements. Python offers several fundamental built-in data types:\n",
    "\n",
    "*1. Numeric Types:*\n",
    "    \n",
    "- *int:* Designed for storing signed integers of unrestricted length. \n",
    "    \n",
    "- *float:* Reserved for floating-point numbers, accurate up to 15 decimal places.\n",
    "    \n",
    "- *complex:* Employed for the storage of complex numbers."
   ]
  },
  {
   "cell_type": "code",
   "execution_count": 2,
   "id": "9552cf93",
   "metadata": {},
   "outputs": [],
   "source": [
    "x = -3                                       # Data Type: int\n",
    "x = 99.123                                   # Data Type: float\n",
    "x = 6 + 1j                                   # Data Type: complex"
   ]
  },
  {
   "cell_type": "markdown",
   "id": "6d40910d",
   "metadata": {},
   "source": [
    "*2. Sequence Types:*\n",
    "\n",
    "- *str:*** Denotes sequences of characters.\n",
    "\n",
    "- *list:* Mutable sequences capable of holding items of varying types, analogous to arrays in C/C++.\n",
    "    \n",
    "- *tuple:* Immutable sequences often utilized to group related data.\n",
    "    \n",
    "- *range:* Represents a sequence of numbers within a specified range."
   ]
  },
  {
   "cell_type": "code",
   "execution_count": 3,
   "id": "f8502979",
   "metadata": {},
   "outputs": [],
   "source": [
    "x = 'Hello World!'                           # Data Type: str\n",
    "x = ['a', 1, 2]                              # Data Type: list\n",
    "x = (1, 'a', 2)                              # Data Type: tuple\n",
    "x = range(11)                                # Data Type: range"
   ]
  },
  {
   "cell_type": "markdown",
   "id": "765df271",
   "metadata": {},
   "source": [
    "*3. Binary Sequence Types:*\n",
    "\n",
    "- *bytes:* Signifies immutable byte sequences for fixed binary data, like images or audio, created using a 'b' prefix (e.g., b'hello').\n",
    "\n",
    "- *bytearray:* Resembles 'bytes' but is mutable, ideal for dynamic manipulation of binary data, such as altering binary files.\n",
    "\n",
    "- *memoryview:* Provides an efficient view and manipulation of existing data without copying, notably advantageous for managing large datasets and binary tasks."
   ]
  },
  {
   "cell_type": "code",
   "execution_count": 4,
   "id": "33c7623a",
   "metadata": {},
   "outputs": [],
   "source": [
    "x = b'Hello'                                 # Data Type: bytes\n",
    "x = bytearray(8)                             # Data Type: bytearray\n",
    "x = memoryview(bytes(8))                     # Data Type: memoryview"
   ]
  },
  {
   "cell_type": "markdown",
   "id": "bbe9a8a8",
   "metadata": {},
   "source": [
    "*4. Mapping Type:*\n",
    "\n",
    "- *dict:* Efficiently stores key-value pairs for organized data storage and rapid access. Keys are unique identifiers linked to their respective values, and dictionaries are mutable, allowing additions, modifications, and removals of key-value pairs."
   ]
  },
  {
   "cell_type": "code",
   "execution_count": 5,
   "id": "56da3479",
   "metadata": {},
   "outputs": [],
   "source": [
    "x = {'name' : 'Python', \"age\" : 32}          # Data Type: dict"
   ]
  },
  {
   "cell_type": "markdown",
   "id": "6238d4c5",
   "metadata": {},
   "source": [
    "*5. Boolean Type:*\n",
    "\n",
    "- *bool:* Represents truth values, specifically either True or False, integral for logical decisions, control flow, and comparisons within Python programs."
   ]
  },
  {
   "cell_type": "code",
   "execution_count": 6,
   "id": "a9c6f2c0",
   "metadata": {},
   "outputs": [],
   "source": [
    "x = True                                     # Data Type: bool"
   ]
  },
  {
   "cell_type": "markdown",
   "id": "514de01f",
   "metadata": {},
   "source": [
    "*6. Set Data Types:*\n",
    "\n",
    "- *set:* Represents a collection of distinct elements in an unordered manner, primarily used for managing unique values and offering mathematical operations such as union and intersection. Sets are mutable and efficient for membership checks.\n",
    "\n",
    "- *frozenset:* Functions similarly to a set, representing a collection of distinct elements in an unordered manner. It is primarily used for managing unique values and offering mathematical operations like union and intersection."
   ]
  },
  {
   "cell_type": "code",
   "execution_count": 7,
   "id": "a953406e",
   "metadata": {},
   "outputs": [],
   "source": [
    "x = {'python', 'matlab', 'c'}                # Data Type: set\n",
    "x = frozenset({'python', 'matlab', 'c'})     # Data Type: frozenset"
   ]
  },
  {
   "cell_type": "markdown",
   "id": "7c7f08f7",
   "metadata": {},
   "source": [
    "*7. None Type:*\n",
    "\n",
    "*NoneType:* Represents the absence of a value or a null value."
   ]
  },
  {
   "cell_type": "code",
   "execution_count": 8,
   "id": "b47db1dc",
   "metadata": {},
   "outputs": [],
   "source": [
    "x = None                                     # Data Type: NoneType"
   ]
  },
  {
   "cell_type": "markdown",
   "id": "e36e962a",
   "metadata": {},
   "source": [
    "Determining the data type of any object can be achieved through the use of the type() function."
   ]
  },
  {
   "cell_type": "code",
   "execution_count": 9,
   "id": "bb797d93",
   "metadata": {},
   "outputs": [
    {
     "name": "stdout",
     "output_type": "stream",
     "text": [
      "<class 'int'>\n"
     ]
    }
   ],
   "source": [
    "x = 2023\n",
    "print(type(x))"
   ]
  },
  {
   "cell_type": "markdown",
   "id": "dd79319e",
   "metadata": {},
   "source": [
    "## Operators and Expressions\n",
    "### Mathematical Operators\n",
    "\n",
    "These operators are symbolic representations utilized to execute arithmetic and mathematical operations on numerical data. They enable you to perform calculations, comparisons, and various other operations within your Python scripts. Notably, these operators are versatile and are compatible with both integers and floating-point numbers."
   ]
  },
  {
   "cell_type": "code",
   "execution_count": 10,
   "id": "4e5e1499",
   "metadata": {},
   "outputs": [],
   "source": [
    "x = 4\n",
    "\n",
    "addition = x + 2                             # 4 + 2 = 6\n",
    "subtraction = x - 2                          # 4 - 2 = 2\n",
    "exponentiation = x ** 2                      # 4^2 = 16\n",
    "multiplication = x * 2                       # 4 * 2 = 8\n",
    "division = x / 2                             # 4 / 2 = 2\n",
    "remainder = x % 2                            # 4 % 2 = 0\n",
    "floor_division = x // 2                      # 4 // 2 = 2"
   ]
  },
  {
   "cell_type": "markdown",
   "id": "1cd99823",
   "metadata": {},
   "source": [
    "### Comparison Operators\n",
    "\n",
    "comparison operators serve as symbolic tools utilized to evaluate values and establish relationships between them. They provide the capability to assess conditions, make comparisons, and guide program execution based on the results of these comparisons."
   ]
  },
  {
   "cell_type": "code",
   "execution_count": 11,
   "id": "25cbaebb",
   "metadata": {},
   "outputs": [
    {
     "name": "stdout",
     "output_type": "stream",
     "text": [
      "False\n",
      "True\n",
      "False\n",
      "True\n",
      "False\n",
      "True\n"
     ]
    }
   ],
   "source": [
    "x = 2\n",
    "y = 5\n",
    "\n",
    "print(x > y)                                # Greater than\n",
    "print(x < y)                                # Less than\n",
    "print(x >= y)                               # Greater or equal to\n",
    "print(x <= y)                               # Less or equal to\n",
    "print(x == y)                               # Equal to\n",
    "print(x != y)                               # Not equal to"
   ]
  },
  {
   "cell_type": "markdown",
   "id": "ea45568a",
   "metadata": {},
   "source": [
    "### Logical operators\n",
    "\n",
    "Logical operators in Python are symbolic tools employed to manipulate or combine Boolean values, representing truth or falsehood. These operators facilitate the execution of logical operations, decision-making based on conditions, and control over the program's progression.\n",
    "\n",
    "Allow me to present a succinct overview of the primary logical operators:\n",
    "\n",
    "- *Logical AND:* Yields True if both statements are true.\n",
    "\n",
    "- *Logical OR:* Yields True if at least one of the statements is true.\n",
    "\n",
    "- *Logical NOT:* Inverts the result, returning False if the result is true."
   ]
  },
  {
   "cell_type": "code",
   "execution_count": 12,
   "id": "d9b11860",
   "metadata": {},
   "outputs": [
    {
     "name": "stdout",
     "output_type": "stream",
     "text": [
      "True\n",
      "True\n",
      "False\n"
     ]
    }
   ],
   "source": [
    "x = 5\n",
    "\n",
    "print(x > 2 and x < 10)\n",
    "print(x < 2 or x > 4)\n",
    "print(not(x > 4 and x < 10))"
   ]
  },
  {
   "cell_type": "markdown",
   "id": "394d6fc7",
   "metadata": {},
   "source": [
    "### Comments\n",
    "\n",
    "Comments in Python refer to lines of text integrated within the code that don't impact the program's execution. They primarily serve the purpose of elucidating logic, providing annotations, or offering contextual notes to enhance code comprehension for both fellow developers and future reference. These comments elucidate specific segments of the code, augmenting its readability, elucidating its functionality to others, aiding understanding over time, incorporating external references, and enabling efficient reuse of existing code. It's essential to note that comments have no bearing on the program's execution as the Python interpreter disregards them during runtime.\n",
    "\n",
    "Python includes two fundamental types of comments:\n",
    "\n",
    "1. *Single-line Comments:* Intended for annotating single lines of code, these comments commence with the # symbol and extend to the end of the respective line.\n",
    "\n",
    "2. *Multi-line Comments (Docstrings):* Although not strictly comments, multi-line strings enclosed within triple quotes (''' or \"\"\") often serve as docstrings. These docstrings supply multi-line explanations for functions, classes, or modules, offering comprehensive insights.\n",
    "\n",
    "Furthermore, to comment multiple lines of code at once, one can simply select the intended code and use Ctrl + / on PC or Cmd + / on Mac. This keyboard shortcut will prepend the # symbol to each selected line, effectively commenting out the entire block of code."
   ]
  },
  {
   "cell_type": "code",
   "execution_count": 13,
   "id": "d0212a1e",
   "metadata": {},
   "outputs": [
    {
     "data": {
      "text/plain": [
       "'\\nMulti\\nline\\ncomment\\n'"
      ]
     },
     "execution_count": 13,
     "metadata": {},
     "output_type": "execute_result"
    }
   ],
   "source": [
    "#This is a \"Single-line Comment\"\n",
    "\n",
    "\"\"\"\n",
    "Multi\n",
    "line\n",
    "comment\n",
    "\"\"\""
   ]
  },
  {
   "cell_type": "markdown",
   "id": "e7921e28",
   "metadata": {},
   "source": [
    "Due to the use of input in the following, the input function is explained in this section.\n",
    "\n",
    "### Input Function\n",
    "\n",
    "The input() function in Python serves a fundamental role in enabling interactive user input during program execution. Upon calling this function, it prompts the user to provide input, which is then recorded as a string.\n",
    "\n",
    "It's important to emphasize that regardless of whether the user inputs numeric values or other types of information, the input is consistently considered as a *string*. If there is a need to interpret the input as a different data type, such as an integer or float, explicit type conversion becomes imperative."
   ]
  },
  {
   "cell_type": "code",
   "execution_count": 14,
   "id": "e8bfbc44",
   "metadata": {},
   "outputs": [
    {
     "name": "stdout",
     "output_type": "stream",
     "text": [
      "Enter your name:World\n",
      "Hello World!\n"
     ]
    }
   ],
   "source": [
    "name = input('Enter your name:')\n",
    "print(f'Hello {name}!')"
   ]
  },
  {
   "cell_type": "markdown",
   "id": "c2fe4984",
   "metadata": {},
   "source": [
    "### Examples\n",
    "\n",
    "- Write a program to calculate the area of a circle.(Use input function get the radius)"
   ]
  },
  {
   "cell_type": "code",
   "execution_count": 15,
   "id": "41c23718",
   "metadata": {},
   "outputs": [
    {
     "name": "stdout",
     "output_type": "stream",
     "text": [
      "Enter radius:\n",
      "5\n",
      "The area of the circle is: 78.5\n"
     ]
    }
   ],
   "source": [
    "r = input('Enter radius:\\n')\n",
    "r = float(r)\n",
    "a = 3.14 * (r**2)\n",
    "print('The area of the circle is:', a)"
   ]
  },
  {
   "cell_type": "markdown",
   "id": "3b6a8f15",
   "metadata": {},
   "source": [
    "- Write a program that prompts the user to input their age and their brother's age, then prints both ages in a sentence."
   ]
  },
  {
   "cell_type": "code",
   "execution_count": 16,
   "id": "1b548d69",
   "metadata": {},
   "outputs": [
    {
     "name": "stdout",
     "output_type": "stream",
     "text": [
      "Enter your age:\n",
      "23\n",
      "Enter your brother's age:\n",
      "29\n",
      "I'm 23 and my brother is 29\n"
     ]
    }
   ],
   "source": [
    "Age = int(input('Enter your age:\\n'))\n",
    "BroAge = int(input('Enter your brother\\'s age:\\n'))\n",
    "\n",
    "print('I\\'m', Age, 'and my brother is', BroAge)"
   ]
  },
  {
   "cell_type": "markdown",
   "id": "70d5e5b9",
   "metadata": {},
   "source": [
    "## Conditional Statements\n",
    "\n",
    "Let us discuss essential programming constructs known as conditional statements—specifically, if, else, and elif. These constructs are pivotal in orchestrating the program's flow based on defined conditions, enabling decision-making within the program and the execution of varying code segments contingent upon these conditions.\n",
    "\n",
    "Here's a structured understanding of these statements:\n",
    "\n",
    "1. *if Statement:* This acts as the primary checkpoint, allowing the execution of a designated block of code only when a specified condition is met.\n",
    "\n",
    "2. *elif Statement:* As a subsequent checkpoint, it permits the assessment of additional conditions if the preceding if or elif conditions prove false.\n",
    "\n",
    "3. *else Statement:* Serving as the final checkpoint, it is invoked when none of the prior conditions in an if or elif statement are satisfied, providing an alternative code block for execution.\n",
    "\n",
    "In the Python programming language, the strategic use of the elif statement is particularly advantageous when navigating through multiple conditions in a systematic and structured manner. While the if statement enables the execution of a code block if a single condition is met, the elif statement assists in considering additional conditions only if the preceding ones do not hold true. This approach not only enhances code efficiency but also promotes structural organization and logical clarity."
   ]
  },
  {
   "cell_type": "markdown",
   "id": "01c9319a",
   "metadata": {},
   "source": [
    "### Examples\n",
    "\n",
    "- Write a Python program that prompts the user to input a numerical score and determines the corresponding letter grade based on the standard alphabet grading scale (A, B, C, D, F)."
   ]
  },
  {
   "cell_type": "code",
   "execution_count": 17,
   "id": "3e67e86f",
   "metadata": {},
   "outputs": [
    {
     "name": "stdout",
     "output_type": "stream",
     "text": [
      "Enter your GPA:\n",
      "12.6\n",
      "C\n"
     ]
    }
   ],
   "source": [
    "gpa = float(input('Enter your GPA:\\n'))\n",
    "\n",
    "if gpa > 15 and gpa <=20:\n",
    "    print('A')\n",
    "if gpa >= 14 and gpa <= 15.99:\n",
    "    print('B')\n",
    "if gpa >= 12 and gpa <= 13.99:\n",
    "    print('C')\n",
    "if gpa >= 10 and gpa <= 11.99:\n",
    "    print('D')\n",
    "if gpa >= 0 and  gpa < 10:\n",
    "    print('F')\n",
    "if gpa < 0 or gpa > 20:\n",
    "    print('The entered value is not acceptable.')"
   ]
  },
  {
   "cell_type": "markdown",
   "id": "51930143",
   "metadata": {},
   "source": [
    "The above program can be written in a more structured way."
   ]
  },
  {
   "cell_type": "code",
   "execution_count": 18,
   "id": "d67f16a1",
   "metadata": {},
   "outputs": [
    {
     "name": "stdout",
     "output_type": "stream",
     "text": [
      "Enter your GPA:\n",
      "16\n",
      "A\n"
     ]
    }
   ],
   "source": [
    "gpa = float(input('Enter your GPA:\\n'))\n",
    "\n",
    "if gpa > 15 and gpa <=20:\n",
    "    print('A')\n",
    "elif gpa >= 14:\n",
    "    print('B')\n",
    "elif gpa >= 12:\n",
    "    print('C')\n",
    "elif gpa >= 10:\n",
    "    print('D')\n",
    "elif gpa >= 0:\n",
    "    print('F')\n",
    "else:\n",
    "    print('The entered value is not acceptable.')"
   ]
  },
  {
   "cell_type": "markdown",
   "id": "fbc36160",
   "metadata": {},
   "source": [
    "- Write program that takes a number as input from the user and determines whether the input number is divisible by 7?"
   ]
  },
  {
   "cell_type": "code",
   "execution_count": 19,
   "id": "eaa9b08a",
   "metadata": {},
   "outputs": [
    {
     "name": "stdout",
     "output_type": "stream",
     "text": [
      "Please, Enter a number:\n",
      "8\n",
      "Not divisible by 7\n"
     ]
    }
   ],
   "source": [
    "\n",
    "x = int(input('Please, Enter a number:\\n'))\n",
    "\n",
    "y = x % 7\n",
    "\n",
    "if y == 0:\n",
    "    print('Divisible by 7')\n",
    "else:\n",
    "    print('Not divisible by 7')"
   ]
  },
  {
   "cell_type": "markdown",
   "id": "38456f97",
   "metadata": {},
   "source": [
    "- Provide program that take a number as input from the user and determine whether the number is even or odd. "
   ]
  },
  {
   "cell_type": "code",
   "execution_count": 20,
   "id": "9f220e1c",
   "metadata": {},
   "outputs": [
    {
     "name": "stdout",
     "output_type": "stream",
     "text": [
      "Please, Enter a number:\n",
      "88\n",
      "Even\n"
     ]
    }
   ],
   "source": [
    "\n",
    "x = int(input('Please, Enter a number:\\n'))\n",
    "\n",
    "y = x%2\n",
    "\n",
    "if y == 0:\n",
    "    print('Even')\n",
    "\n",
    "else:\n",
    "    print('Odd')"
   ]
  },
  {
   "cell_type": "markdown",
   "id": "80224b46",
   "metadata": {},
   "source": [
    "### Assignment\n",
    "\n",
    "-  please provide a Python program that takes a person's income as input and calculates *the annual income tax* based on the following rules: no tax for earnings below 2500 per month, 3% tax for incomes between 2500 and 6000 per month, 6% tax for incomes between 6000 and 10000 per month, and 12% tax for incomes above 10,000 per month?"
   ]
  },
  {
   "cell_type": "markdown",
   "id": "3561ab36",
   "metadata": {},
   "source": [
    "## Functions\n",
    "\n",
    "Working with functions in Python is fundamental for code organization and modularity. Functions represent reusable code blocks designed for specific tasks, enhancing code readability, reusability, and maintainability.\n",
    "\n",
    "- *Creating a Function:* Functions are defined with the 'def' keyword, followed by the function's name and parameters.\n",
    "\n",
    "- *Calling a Function:* To execute a function's code, you simply invoke it by referencing its name and enclosing it within parentheses."
   ]
  },
  {
   "cell_type": "code",
   "execution_count": 21,
   "id": "1bec1cd8",
   "metadata": {},
   "outputs": [
    {
     "name": "stdout",
     "output_type": "stream",
     "text": [
      "Congratulations! You have started learning python programming.\n"
     ]
    }
   ],
   "source": [
    "# Creating a Function\n",
    "def congrats_print(name):\n",
    "    print(f'Congratulations! You have started learning {name} programming.')\n",
    "    \n",
    "\n",
    "# Calling a Function\n",
    "congrats_print('python')"
   ]
  },
  {
   "cell_type": "markdown",
   "id": "3dadf84a",
   "metadata": {},
   "source": [
    "- *Arguments:* Arguments can be thought of as the essential inputs that provide the function with the data it requires to perform its designated task.\n",
    "\n",
    "- *Parameters or Arguments?* Parameters are placeholders in the function definition, while arguments are the values provided when calling the function.\n",
    "\n",
    "- *Return Values:* Functions in Python have the capability to yield results using the 'return' statement, enabling the utilization of the returned value for subsequent operations within the program.\n",
    "\n",
    "- *Number of Arguments:* The flexibility of functions in accepting varying numbers of arguments depends on their design and can be compared to recipes that require different quantities of ingredients."
   ]
  },
  {
   "cell_type": "code",
   "execution_count": 22,
   "id": "2cbeb790",
   "metadata": {},
   "outputs": [
    {
     "name": "stdout",
     "output_type": "stream",
     "text": [
      "22\n"
     ]
    }
   ],
   "source": [
    "def calculate_sum(x, y, z):\n",
    "    # Return output\n",
    "    return x + y + z\n",
    "\n",
    "a = 8\n",
    "b = 3\n",
    "c = 11\n",
    "\n",
    "print(calculate_sum(a, b ,c))        # Arguments"
   ]
  },
  {
   "cell_type": "markdown",
   "id": "fcac7a28",
   "metadata": {},
   "source": [
    "- *Arbitrary Arguments, *args:* Utilizing *args allows to pass an unspecified quantity of items, and enhancing adaptability."
   ]
  },
  {
   "cell_type": "code",
   "execution_count": 23,
   "id": "73d17341",
   "metadata": {},
   "outputs": [
    {
     "name": "stdout",
     "output_type": "stream",
     "text": [
      "('year', 'month', 'date')\n"
     ]
    }
   ],
   "source": [
    "def calender(*args):\n",
    "    print(args)\n",
    "\n",
    "calender('year', 'month', 'date')"
   ]
  },
  {
   "cell_type": "markdown",
   "id": "4a33bae1",
   "metadata": {},
   "source": [
    "- *Keyword Arguments:* When employing keyword arguments, the parameters are assigned specific values using their respective names, contributing to a more explicit and structured parameter assignment."
   ]
  },
  {
   "cell_type": "code",
   "execution_count": 24,
   "id": "0c8dca1a",
   "metadata": {},
   "outputs": [
    {
     "name": "stdout",
     "output_type": "stream",
     "text": [
      "Today is August 16, 2023.\n"
     ]
    }
   ],
   "source": [
    "def calender(year, month, date):\n",
    "    print(f'Today is {month} {date}, {year}.')\n",
    "\n",
    "calender(date = 16, year = '2023', month = 'August')"
   ]
  },
  {
   "cell_type": "markdown",
   "id": "ae8dfe5b",
   "metadata": {},
   "source": [
    "- *The pass Statement:* The 'pass' statement serves as a syntactic placeholder, allowing for the fulfillment of syntax requirements even when there is no specific code to be executed at that point in the program."
   ]
  },
  {
   "cell_type": "code",
   "execution_count": 25,
   "id": "5cb0e482",
   "metadata": {},
   "outputs": [],
   "source": [
    "def placeholder_function():\n",
    "    pass  #No code to execute here"
   ]
  },
  {
   "cell_type": "markdown",
   "id": "1676e302",
   "metadata": {},
   "source": [
    "- *Recursion:* Recursion involves a function calling itself to solve a problem. It's suitable for tasks that can be broken down into smaller, similar sub-problems."
   ]
  },
  {
   "cell_type": "markdown",
   "id": "66937513",
   "metadata": {},
   "source": [
    "### Examples\n",
    "\n",
    "- Write a program for calculate factorial of a number."
   ]
  },
  {
   "cell_type": "code",
   "execution_count": 26,
   "id": "c2b3829d",
   "metadata": {},
   "outputs": [
    {
     "name": "stdout",
     "output_type": "stream",
     "text": [
      "5040\n"
     ]
    }
   ],
   "source": [
    "def factorial(x):\n",
    "    if x == 1:\n",
    "        return 1\n",
    "    else:\n",
    "        return x * factorial(x - 1)\n",
    "\n",
    "print(factorial(7))"
   ]
  },
  {
   "cell_type": "markdown",
   "id": "0fdbcad9",
   "metadata": {},
   "source": [
    "- You are tasked with creating a Python program that determines the coefficients (a, b, c) of a quadratic equation (ax^2 + bx + c) when provided with the roots of the equation.\n"
   ]
  },
  {
   "cell_type": "code",
   "execution_count": 27,
   "id": "5da1eabe",
   "metadata": {},
   "outputs": [
    {
     "name": "stdout",
     "output_type": "stream",
     "text": [
      "ax^2 + bx + c = 0\n",
      "a= \n",
      "2\n",
      "b= \n",
      "-4\n",
      "c= \n",
      "1\n",
      "(1.7071067811865475, 0.2928932188134524)\n"
     ]
    }
   ],
   "source": [
    "import math\n",
    "\n",
    "def quadratic_solver(a, b, c):\n",
    "    \n",
    "    # d = b^2 - 4ac\n",
    "    d = b**2 - (4 * a * c) \n",
    "    \n",
    "    if d > 0:\n",
    "        x1 = ((-b) + math.sqrt(d)) / (2*a)\n",
    "        x2 = ((-b) - math.sqrt(d)) / (2*a)\n",
    "        return x1, x2\n",
    "    \n",
    "    elif d == 0:\n",
    "        x = ((-b) + math.sqrt(d)) / (2*a)\n",
    "        return x\n",
    "    \n",
    "    else:\n",
    "         return 'No real solutions'   \n",
    "        \n",
    "print('ax^2 + bx + c = 0')\n",
    "\n",
    "a = int(input('a= \\n'))\n",
    "b = int(input('b= \\n'))\n",
    "c = int(input('c= \\n'))\n",
    "\n",
    "print(quadratic_solver(a, b, c))"
   ]
  },
  {
   "cell_type": "markdown",
   "id": "03e6e8a9",
   "metadata": {},
   "source": [
    "### Assignments\n",
    "\n",
    "- Rewrite the program to calculate the area of a square using functions.\n",
    "\n",
    "- Write a Python program that utilizes functions to determine whether a given number, entered by the user, is a prime number or not. ***Hint:*** A prime number is an integer number greater than 1 that has no positive integer divisors other than 1 and itself."
   ]
  },
  {
   "cell_type": "markdown",
   "id": "39b2c944",
   "metadata": {},
   "source": [
    "## Error Handling\n",
    "\n",
    "Error handling in Python is a crucial aspect of ensuring robustness and reliability in a program. It involves employing mechanisms to anticipate and manage potential errors or exceptions that may arise during program execution.\n",
    "\n",
    "- *try block:* This is the segment of code where potentially problematic operations are enclosed. If an error occurs here, Python attempts to handle it.\n",
    "\n",
    "- *except block:* When an exception occurs in the try block, this block is invoked to manage and respond to the error appropriately. You can specify the type of exception to catch.\n",
    "\n",
    "- *else block (optional):* This block is executed if no exceptions are encountered in the try block, providing a section for actions to be taken in such cases.\n",
    "\n",
    "- *finally block (optional):* Irrespective of whether an exception occurs or not, the code in this block is executed. It's typically utilized for necessary cleanup operations."
   ]
  },
  {
   "cell_type": "code",
   "execution_count": 28,
   "id": "9ac4c757",
   "metadata": {},
   "outputs": [
    {
     "name": "stdout",
     "output_type": "stream",
     "text": [
      "Error: Cannot divide by zero!\n",
      "Execution completed.\n"
     ]
    }
   ],
   "source": [
    "y = 0\n",
    "\n",
    "try:    \n",
    "    result = 5 / y\n",
    "\n",
    "except ZeroDivisionError:\n",
    "    print('Error: Cannot divide by zero!')\n",
    "                  \n",
    "else:\n",
    "    print('Result:', result)\n",
    "\n",
    "finally:\n",
    "    print(\"Execution completed.\")  "
   ]
  },
  {
   "cell_type": "markdown",
   "id": "73b68d4c",
   "metadata": {},
   "source": [
    "## Repeat Loops\n",
    "\n",
    "Loops are fundamental constructs in programming, enabling the iterative execution of a specific block of code. In Python, there are two principal types of loops: 'while' loops and 'for' loops.\n",
    "\n",
    "1. *While Loops:* A 'while' loop in Python is employed to iteratively execute a set of statements as long as a specified condition holds true. Upon the condition becoming false, the program proceeds to the line immediately following the loop.\n",
    "    \n",
    "    while expression:\n",
    "        statement(s)\n",
    "        \n",
    "2. *For Loops:* 'For' loops are utilized for sequential traversal, such as iterating over a list, string, or array. In Python, the 'for in' loop mirrors the 'for each' loop seen in other languages. Let us delve into the application of the 'for in' loop for sequential traversals.\n",
    "\n",
    "    for iterator_var in sequence:\n",
    "        statements(s)\n",
    "    \n",
    "Converting between different loop types is always possible, as each type can be expressed in terms of the other. This underlines the flexibility and equivalent functionality of these loop structures. Consequently, transitioning from a 'for' loop to a 'while' loop or vice versa is seamless.\n",
    "\n",
    "### Example\n",
    "\n",
    "- To illustrate, let's consider an example using loops to print numbers from 1 to 10.   "
   ]
  },
  {
   "cell_type": "code",
   "execution_count": 29,
   "id": "0d81f0d9",
   "metadata": {},
   "outputs": [
    {
     "name": "stdout",
     "output_type": "stream",
     "text": [
      "1\n",
      "2\n",
      "3\n",
      "4\n",
      "5\n",
      "6\n",
      "7\n",
      "8\n",
      "9\n",
      "10\n"
     ]
    }
   ],
   "source": [
    "# Using while\n",
    "\n",
    "n = 1\n",
    "while n < 11:\n",
    "    print(n)\n",
    "    n = n + 1"
   ]
  },
  {
   "cell_type": "code",
   "execution_count": 30,
   "id": "bccfc532",
   "metadata": {},
   "outputs": [
    {
     "name": "stdout",
     "output_type": "stream",
     "text": [
      "1\n",
      "2\n",
      "3\n",
      "4\n",
      "5\n",
      "6\n",
      "7\n",
      "8\n",
      "9\n",
      "10\n"
     ]
    }
   ],
   "source": [
    "# Using for\n",
    "\n",
    "for n in range (1, 11):\n",
    "    print(n)"
   ]
  },
  {
   "cell_type": "markdown",
   "id": "674b7bc2",
   "metadata": {},
   "source": [
    "3. *Nested Loops:* A nested loop in Python is a loop contained within another loop. This construct enables you to perform iterations within iterations, a valuable approach when dealing with n-dimensional data structures such as matrices or grids.\n",
    "\n",
    "To illustrate nested loops, let's consider the creation of a 3x3 matrix with numbers provided by the user. This interactive approach allows users to input the values for each cell in the matrix, resulting in a customized matrix based on their inputs.\n",
    "\n",
    "### Example\n",
    "\n",
    "- Creating a 3x3 Matrix with User-Entered Numbers."
   ]
  },
  {
   "cell_type": "code",
   "execution_count": 31,
   "id": "e6b12456",
   "metadata": {},
   "outputs": [
    {
     "name": "stdout",
     "output_type": "stream",
     "text": [
      "Enter number at position (0, 0): -1\n",
      "Enter number at position (0, 1): 0\n",
      "Enter number at position (0, 2): 2\n",
      "Enter number at position (1, 0): 34\n",
      "Enter number at position (1, 1): 12\n",
      "Enter number at position (1, 2): -5\n",
      "Enter number at position (2, 0): 7\n",
      "Enter number at position (2, 1): 2\n",
      "Enter number at position (2, 2): 9\n"
     ]
    },
    {
     "data": {
      "text/plain": [
       "[[-1, 0, 2], [34, 12, -5], [7, 2, 9]]"
      ]
     },
     "execution_count": 31,
     "metadata": {},
     "output_type": "execute_result"
    }
   ],
   "source": [
    "matrix = [[0, 0, 0], [0, 0, 0], [0, 0, 0]]\n",
    "\n",
    "for i in range (3):\n",
    "    for j in range(3):\n",
    "        x = int(input(f'Enter number at position ({i}, {j}): '))\n",
    "        matrix[i][j] = x\n",
    "\n",
    "matrix"
   ]
  },
  {
   "cell_type": "markdown",
   "id": "386f75c9",
   "metadata": {},
   "source": [
    "*Break Statement:* In Python, the 'break' statement serves as a handy tool to exit a loop before its regular completion, regardless of whether the loop's condition has been fully met. When 'break' is encountered within a loop, it promptly ends the loop, allowing the program to move on to the next statement after the loop. This is particularly useful for controlling the flow of your program based on specific conditions."
   ]
  },
  {
   "cell_type": "code",
   "execution_count": 32,
   "id": "2a582ab3",
   "metadata": {},
   "outputs": [
    {
     "name": "stdout",
     "output_type": "stream",
     "text": [
      "0\n",
      "1\n",
      "2\n",
      "3\n",
      "4\n",
      "5\n"
     ]
    }
   ],
   "source": [
    "for i in range (1000):\n",
    "\n",
    "    if i > 5:\n",
    "        break\n",
    "\n",
    "    print(i)"
   ]
  },
  {
   "cell_type": "markdown",
   "id": "58a837bc",
   "metadata": {},
   "source": [
    "#### The research section\n",
    "\n",
    "* What is \"do.....while\" loop?\n",
    "* What is the use of this tool in programming?\n",
    "* How to make a \"do....while\" loop in Python?"
   ]
  },
  {
   "cell_type": "markdown",
   "id": "d1d6f7f8",
   "metadata": {},
   "source": [
    "### Examples\n",
    "\n",
    "- Write a program that implements the described functionality. The program should adhere to the following specifications:\n",
    "\n",
    "    - Implement a loop that continuously prompts the user for a number.\n",
    "    - If the user enters a specific command 'done', exit the loop.\n",
    "    - Calculate the average of all the numbers entered by the user.\n",
    "    - Display the calculated average."
   ]
  },
  {
   "cell_type": "code",
   "execution_count": 33,
   "id": "06596eec",
   "metadata": {},
   "outputs": [
    {
     "name": "stdout",
     "output_type": "stream",
     "text": [
      "Enter number:\n",
      "1\n",
      "Enter number:\n",
      "2\n",
      "Enter number:\n",
      "3\n",
      "Enter number:\n",
      "t\n",
      "Please enter a valid number or done.\n",
      "Enter number:\n",
      "7\n",
      "Enter number:\n",
      "done\n",
      "average =  3.25\n"
     ]
    }
   ],
   "source": [
    "\n",
    "sum_of_digit = 0\n",
    "count = 0\n",
    "\n",
    "while True:\n",
    "    \n",
    "    x = input('Enter number:\\n')\n",
    "    \n",
    "    if x == 'done':\n",
    "        break\n",
    "\n",
    "    try:\n",
    "        \n",
    "        x = float(x)\n",
    "        sum_of_digit += x\n",
    "        count += 1\n",
    "    \n",
    "    except ValueError:\n",
    "            print('Please enter a valid number or done.')\n",
    "\n",
    "print('average = ', sum_of_digit / count)"
   ]
  },
  {
   "cell_type": "markdown",
   "id": "c7c209fb",
   "metadata": {},
   "source": [
    " - Write a program that takes two numbers from the user. Then the program must raise the first number to the power of the second number."
   ]
  },
  {
   "cell_type": "code",
   "execution_count": 34,
   "id": "0846a6db",
   "metadata": {},
   "outputs": [
    {
     "name": "stdout",
     "output_type": "stream",
     "text": [
      "Enter base:\n",
      "2\n",
      "Enter exponent:\n",
      "3\n",
      "8\n"
     ]
    }
   ],
   "source": [
    "b = int(input('Enter base:\\n'))\n",
    "\n",
    "e = int(input('Enter exponent:\\n'))\n",
    "\n",
    "\n",
    "r = 1\n",
    "\n",
    "while e > 0:\n",
    "    r *= b\n",
    "    e -= 1\n",
    "\n",
    "print(r)"
   ]
  },
  {
   "cell_type": "markdown",
   "id": "a17e055e",
   "metadata": {},
   "source": [
    "- Creating a Python program that takes a four-digit number as input and determines the largest number that can be formed using its digits."
   ]
  },
  {
   "cell_type": "code",
   "execution_count": 35,
   "id": "b8bbc478",
   "metadata": {},
   "outputs": [
    {
     "name": "stdout",
     "output_type": "stream",
     "text": [
      "Enter a four-digit number: 6910\n",
      "The largest digit is: 9\n"
     ]
    }
   ],
   "source": [
    "# Maximum\n",
    "m = 0\n",
    "\n",
    "a = int(input('Enter a four-digit number: '))\n",
    "\n",
    "if a >= 1000 and a <= 9999:\n",
    "\n",
    "    while a > 0:\n",
    "        b = a % 10\n",
    "\n",
    "        if b > m:\n",
    "            m = b\n",
    "\n",
    "        a //= 10 \n",
    "\n",
    "    print('The largest digit is:', m)\n",
    "else:\n",
    "    print('Please enter a valid four-digit number.')\n"
   ]
  },
  {
   "cell_type": "markdown",
   "id": "24f5ae42",
   "metadata": {},
   "source": [
    "### Assignment\n",
    "\n",
    "- writing a program that prints a diamond pattern using nested for loops. The height of the diamond will be determined by the user's input.\n",
    "For a diamond pattern with a height of 5, the output would be:"
   ]
  },
  {
   "cell_type": "raw",
   "id": "0aeaa71d",
   "metadata": {},
   "source": [
    "    *\n",
    "   ***\n",
    "  *****\n",
    " *******\n",
    "*********\n",
    " *******\n",
    "  *****\n",
    "   ***\n",
    "    *"
   ]
  },
  {
   "cell_type": "markdown",
   "id": "a398a597",
   "metadata": {},
   "source": [
    "- Calculate and display the count of three-digit numbers that are multiples of 15 within the specified range.\n",
    "    - Start: 100, End: 500"
   ]
  },
  {
   "cell_type": "markdown",
   "id": "5ca371db",
   "metadata": {},
   "source": [
    "## Exploring Strings\n",
    "\n",
    "In Python, a string is a sequence of characters, essentially a way of representing text. Strings are like the words and sentences you see and type daily. They're enclosed within either single quotes (' '), double quotes (\" \"), or triple quotes (''' ''' or \"\"\" \"\"\") if you need multiple lines.\n",
    "\n",
    "### Creating Strings\n",
    "\n",
    "Making a string is as simple as putting characters inside quotes. You can store a string in a variable, essentially giving a name to your string. "
   ]
  },
  {
   "cell_type": "code",
   "execution_count": 36,
   "id": "6f94f079",
   "metadata": {},
   "outputs": [],
   "source": [
    "my_string1 = 'Python'\n",
    "\n",
    "my_string2 = \"\"\"Hey,\n",
    "Your success in programming is important to us,\n",
    "GOOD LUCK!\n",
    "\"\"\""
   ]
  },
  {
   "cell_type": "markdown",
   "id": "bda67120",
   "metadata": {},
   "source": [
    "### Accessing Characters\n",
    "\n",
    "Each character in a string is assigned a unique index, starting from 0. This index acts like an address for the character, allowing you to access characters using it. If you want to visit a specific character, you just need to know its address! You can also start counting from the end, similar to counting steps backward. The last character is represented by -1, the second last by -2, and so on.\n",
    "\n",
    "***Slicing*** allows you to extract a portion of a string. You define the start and end positions.\n",
    "\n",
    "### Counting Elements\n",
    "\n",
    "len() is like having a measuring tape for your data. It counts characters, items, or any elements, giving you a clear picture of the size. It's a handy tool in every programmer's toolkit."
   ]
  },
  {
   "cell_type": "code",
   "execution_count": 37,
   "id": "878aa27c",
   "metadata": {},
   "outputs": [
    {
     "name": "stdout",
     "output_type": "stream",
     "text": [
      "10\n",
      "a\n",
      "j\n",
      "fgh\n",
      "abcdefgh\n",
      "ghij\n",
      "ghi\n"
     ]
    }
   ],
   "source": [
    "my_string = 'abcdefghij'\n",
    "\n",
    "print(len(my_string)) \n",
    "\n",
    "# First letter\n",
    "print(my_string[0])\n",
    "\n",
    "# Last letter\n",
    "print(my_string[-1])\n",
    "\n",
    "# Slicing\n",
    "print(my_string[5:8])\n",
    "print(my_string[:8])\n",
    "print(my_string[6:])\n",
    "print(my_string[-4:-1])"
   ]
  },
  {
   "cell_type": "markdown",
   "id": "0060709e",
   "metadata": {},
   "source": [
    "### Useful String Operations\n",
    "\n",
    "Python provides numerous built-in methods to manipulate strings. Here are some common operations for modifying strings:\n",
    "\n",
    "1. *Concatenation(Blending Strings):* The + operator helps weave multiple strings into one."
   ]
  },
  {
   "cell_type": "code",
   "execution_count": 38,
   "id": "3436ec35",
   "metadata": {},
   "outputs": [
    {
     "name": "stdout",
     "output_type": "stream",
     "text": [
      "Hello World!\n"
     ]
    }
   ],
   "source": [
    "word_1 = 'Hello '\n",
    "word_2 = 'World!'\n",
    "\n",
    "welcome = word_1 + word_2\n",
    "\n",
    "print(welcome)"
   ]
  },
  {
   "cell_type": "markdown",
   "id": "2d9087bc",
   "metadata": {},
   "source": [
    "2. *Remove Whitespace:* Text can sometimes carry unnecessary baggage in the form of spaces. Trimming these spaces is like tidying up your words. strip() method sweeping away leading and trailing whitespace from a string."
   ]
  },
  {
   "cell_type": "code",
   "execution_count": 39,
   "id": "2a790782",
   "metadata": {},
   "outputs": [
    {
     "name": "stdout",
     "output_type": "stream",
     "text": [
      "Hello World!\n"
     ]
    }
   ],
   "source": [
    "welcome = '''\n",
    "\n",
    "\n",
    "\n",
    "Hello World!                    '''     \n",
    "\n",
    "welcome = welcome.strip()\n",
    "\n",
    "print(welcome)"
   ]
  },
  {
   "cell_type": "markdown",
   "id": "bdb9bb1a",
   "metadata": {},
   "source": [
    "3. *Changing Case (Uppercase and Lowercase):* In the world of letters, cases matter. Python provides simple ways to switch between uppercase and lowercase."
   ]
  },
  {
   "cell_type": "code",
   "execution_count": 40,
   "id": "92541b76",
   "metadata": {},
   "outputs": [
    {
     "name": "stdout",
     "output_type": "stream",
     "text": [
      "PYTHON\n",
      "python\n"
     ]
    }
   ],
   "source": [
    "name = 'pYThoN'\n",
    "\n",
    "# Converts to uppercase\n",
    "name = name.upper() \n",
    "print(name)\n",
    "\n",
    "# Converts to lowercase\n",
    "name = name.lower() \n",
    "print(name)"
   ]
  },
  {
   "cell_type": "markdown",
   "id": "b5d8d5bb",
   "metadata": {},
   "source": [
    "4. *Swapping Words (Replacing):* You can replace certain words with others, just like changing ingredients in a recipe."
   ]
  },
  {
   "cell_type": "code",
   "execution_count": 41,
   "id": "7099d860",
   "metadata": {},
   "outputs": [
    {
     "name": "stdout",
     "output_type": "stream",
     "text": [
      "I write my programs in C++ language\n",
      "I write my programs in Python language\n"
     ]
    }
   ],
   "source": [
    "text = 'I write my programs in C++ language'\n",
    "\n",
    "print(text)\n",
    "\n",
    "new_text = text.replace('C++', 'Python')\n",
    "\n",
    "print(new_text)"
   ]
  },
  {
   "cell_type": "markdown",
   "id": "d3af01f1",
   "metadata": {},
   "source": [
    "5. *Breaking a Sentence:* In Python, the split() method is like a helpful tool for breaking a big sentence into smaller, meaningful words. It's like cutting a cake into slices to make it easier to share "
   ]
  },
  {
   "cell_type": "code",
   "execution_count": 42,
   "id": "21c37b0c",
   "metadata": {},
   "outputs": [
    {
     "name": "stdout",
     "output_type": "stream",
     "text": [
      "['Python', 'is', 'amazing!']\n"
     ]
    }
   ],
   "source": [
    "text = 'Python is amazing!'\n",
    "\n",
    "sub_text = text.split()\n",
    "\n",
    "print(sub_text)"
   ]
  },
  {
   "cell_type": "markdown",
   "id": "c08fd20e",
   "metadata": {},
   "source": [
    "### String Formatting\n",
    "\n",
    "String formatting is like giving structure to your sentences. It's about inserting values into a predefined pattern."
   ]
  },
  {
   "cell_type": "code",
   "execution_count": 43,
   "id": "304cb7e2",
   "metadata": {},
   "outputs": [
    {
     "name": "stdout",
     "output_type": "stream",
     "text": [
      "Hello, my name is Amin and I'm 23 years old.\n"
     ]
    }
   ],
   "source": [
    "text = 'Hello, my name is {} and I\\'m {} years old.'\n",
    "\n",
    "name = 'Amin'\n",
    "age = 23\n",
    "\n",
    "print(text.format(name, age))"
   ]
  },
  {
   "cell_type": "markdown",
   "id": "54a6bce5",
   "metadata": {},
   "source": [
    "### Escaping Special Characters\n",
    "\n",
    "Special characters, like new lines or quotes, have special meanings. You can use escape characters to include them in strings.\n",
    "Here are some common Special Characters:"
   ]
  },
  {
   "cell_type": "raw",
   "id": "c8565ee6",
   "metadata": {},
   "source": [
    "\\n    : New Line\n",
    "\\t    : Tab\n",
    "\\b    : Backspace\n",
    "\\\\    : Backslash\n",
    "\\'    : Single quote\n",
    "\\xhh  : Hex value"
   ]
  },
  {
   "cell_type": "markdown",
   "id": "fd65177b",
   "metadata": {},
   "source": [
    "### Looping Through a String\n",
    "\n",
    "Python lets you loop through each character in a string using a for loop. This way, you can explore each part of the string."
   ]
  },
  {
   "cell_type": "code",
   "execution_count": 44,
   "id": "f6a6e76e",
   "metadata": {},
   "outputs": [
    {
     "name": "stdout",
     "output_type": "stream",
     "text": [
      "a\n",
      "b\n",
      "c\n",
      "d\n",
      "e\n"
     ]
    }
   ],
   "source": [
    "text = 'abcde'\n",
    "\n",
    "for letter in text:\n",
    "    print(letter)"
   ]
  },
  {
   "cell_type": "markdown",
   "id": "8f2290f7",
   "metadata": {},
   "source": [
    "### Conditional Statements and Strings\n",
    "\n",
    "Sometimes, you want to make decisions based on the content of a string. Using an conditional statements, you can do just that. "
   ]
  },
  {
   "cell_type": "code",
   "execution_count": 45,
   "id": "a57c9aa0",
   "metadata": {},
   "outputs": [
    {
     "name": "stdout",
     "output_type": "stream",
     "text": [
      "Not equal!\n"
     ]
    }
   ],
   "source": [
    "string_1 = '*****'\n",
    "string_2 = '***$*'\n",
    "\n",
    "if string_1 == string_2:\n",
    "    print('Equal!')\n",
    "else:\n",
    "    print('Not equal!')"
   ]
  },
  {
   "cell_type": "code",
   "execution_count": 46,
   "id": "b207a31f",
   "metadata": {},
   "outputs": [
    {
     "name": "stdout",
     "output_type": "stream",
     "text": [
      "Yes!\n"
     ]
    }
   ],
   "source": [
    "text = 'Computers act like brains and control functions.'\n",
    "\n",
    "if 'brains' in text:\n",
    "    print('Yes!')\n",
    "else:\n",
    "    print('No!')"
   ]
  },
  {
   "cell_type": "markdown",
   "id": "456772e6",
   "metadata": {},
   "source": [
    "### Example\n",
    "\n",
    "- Write a Python program that takes a string as input and capitalizes the first letter after every space in the string."
   ]
  },
  {
   "cell_type": "code",
   "execution_count": 47,
   "id": "f5abc50a",
   "metadata": {},
   "outputs": [
    {
     "name": "stdout",
     "output_type": "stream",
     "text": [
      "Enter a string:\n",
      "have a good time.\n",
      " Have A Good Time.\n",
      "Have A Good Time.\n"
     ]
    }
   ],
   "source": [
    "text = input('Enter a string:\\n')\n",
    "\n",
    "# Split the string into words\n",
    "words = text.split()\n",
    "\n",
    "result = ''\n",
    "\n",
    "for word in words:\n",
    "    # Capitalize the first\n",
    "    cap = word.capitalize()\n",
    "    \n",
    "    # Concatenation\n",
    "    result = result + ' ' + cap\n",
    "\n",
    "print(result)\n",
    "print(result.strip())"
   ]
  },
  {
   "cell_type": "markdown",
   "id": "089af876",
   "metadata": {},
   "source": [
    "### Assignment\n",
    "\n",
    "- Write a Python program that calculates the number of characters in a received string. However, you are not allowed to use any built-in methods or functions that directly provide the length of the string.\n",
    "\n"
   ]
  },
  {
   "cell_type": "markdown",
   "id": "8206e219",
   "metadata": {},
   "source": [
    "## Data Structures\n",
    "\n",
    "Python offers several built-in data structures that are fundamental for organizing, storing, and manipulating data efficiently. In this tutorial, we will examine four types of these data structures, including list, tuple, partition, and set.\n",
    "\n",
    "### Lists\n",
    "\n",
    "At the first, We'll getting to Know Lists in Python. List stands as a versatile and fundamental data structure. It's a container that graciously holds an assortment of items, ranging from numbers (integers or floats) to words (strings) and even more complex elements like other lists or dictionaries.\n",
    "\n",
    "#### Creating a List\n",
    "\n",
    "To create a list, encapsulate a comma-separated sequence of items within square brackets []."
   ]
  },
  {
   "cell_type": "code",
   "execution_count": 48,
   "id": "917ecf4c",
   "metadata": {},
   "outputs": [
    {
     "data": {
      "text/plain": [
       "[1, 'Hi', 56.32, True, 'Ds']"
      ]
     },
     "execution_count": 48,
     "metadata": {},
     "output_type": "execute_result"
    }
   ],
   "source": [
    "my_List = [1, 'Hi', 56.32, True, 'Ds']\n",
    "\n",
    "my_List"
   ]
  },
  {
   "cell_type": "markdown",
   "id": "9c8dd405",
   "metadata": {},
   "source": [
    "#### Accessing Elements\n",
    "\n",
    "Elements in a list are indexed, commencing from 0 for the initial element. Access a specific element by indicating its index within square brackets."
   ]
  },
  {
   "cell_type": "code",
   "execution_count": 49,
   "id": "42a6683a",
   "metadata": {},
   "outputs": [
    {
     "name": "stdout",
     "output_type": "stream",
     "text": [
      "1\n",
      "Ds\n"
     ]
    }
   ],
   "source": [
    "print(my_List[0])\n",
    "\n",
    "print(my_List[-1])"
   ]
  },
  {
   "cell_type": "markdown",
   "id": "4110e3af",
   "metadata": {},
   "source": [
    "#### Modifying Lists\n",
    "\n",
    "Lists are mutable, allowing for the modification of their elements. Assign a new value to a specific index or a range of indices. "
   ]
  },
  {
   "cell_type": "code",
   "execution_count": 50,
   "id": "735c4ef0",
   "metadata": {},
   "outputs": [
    {
     "name": "stdout",
     "output_type": "stream",
     "text": [
      "[1, 2, 3, 4, 'HOP', 6, 7]\n"
     ]
    }
   ],
   "source": [
    "game = [1, 2, 3, 4, 5, 6, 7]\n",
    "\n",
    "game[4] = 'HOP'\n",
    "\n",
    "print(game)"
   ]
  },
  {
   "cell_type": "markdown",
   "id": "eeda632a",
   "metadata": {},
   "source": [
    "#### List Slicing\n",
    "\n",
    "You can also extract a portion of a list using slicing, which involves specifying a start and end index."
   ]
  },
  {
   "cell_type": "code",
   "execution_count": 51,
   "id": "34ecd693",
   "metadata": {},
   "outputs": [
    {
     "data": {
      "text/plain": [
       "[1, 2, 3, 4]"
      ]
     },
     "execution_count": 51,
     "metadata": {},
     "output_type": "execute_result"
    }
   ],
   "source": [
    "numbers = [0, 1, 2, 3, 4]\n",
    "\n",
    "numbers[1: 5]"
   ]
  },
  {
   "cell_type": "markdown",
   "id": "9559450d",
   "metadata": {},
   "source": [
    "#### List Operations\n",
    "\n",
    "1. *Appending:* Add elements to the end of a list using append()."
   ]
  },
  {
   "cell_type": "code",
   "execution_count": 52,
   "id": "cf351692",
   "metadata": {},
   "outputs": [
    {
     "data": {
      "text/plain": [
       "[1, 2, 3, 4, 5]"
      ]
     },
     "execution_count": 52,
     "metadata": {},
     "output_type": "execute_result"
    }
   ],
   "source": [
    "numbers = [1, 2, 3, 4]\n",
    "\n",
    "numbers.append(5)\n",
    "\n",
    "numbers"
   ]
  },
  {
   "cell_type": "markdown",
   "id": "f7fdcccb",
   "metadata": {},
   "source": [
    "2. *Extending:* Extending a list by appending elements from another iterable."
   ]
  },
  {
   "cell_type": "code",
   "execution_count": 53,
   "id": "2f463f9c",
   "metadata": {},
   "outputs": [
    {
     "data": {
      "text/plain": [
       "['a', 'b', 'c', 'd', 'e', 'f']"
      ]
     },
     "execution_count": 53,
     "metadata": {},
     "output_type": "execute_result"
    }
   ],
   "source": [
    "L1 = ['a', 'b', 'c', 'd']\n",
    "L2 = ['e', 'f']\n",
    "\n",
    "L1.extend(L2)\n",
    "\n",
    "L1"
   ]
  },
  {
   "cell_type": "markdown",
   "id": "f900319c",
   "metadata": {},
   "source": [
    "3. *Inserting:* Inserting an element at a specific index using insert()."
   ]
  },
  {
   "cell_type": "code",
   "execution_count": 54,
   "id": "3fc3bf07",
   "metadata": {},
   "outputs": [
    {
     "data": {
      "text/plain": [
       "[1, 2, 3, 4, 5, 6, 7, 8]"
      ]
     },
     "execution_count": 54,
     "metadata": {},
     "output_type": "execute_result"
    }
   ],
   "source": [
    "numbers = [1, 2, 3, 4, 5, 7, 8]\n",
    "\n",
    "# list.insert(index, element)\n",
    "numbers.insert(5, 6)\n",
    "\n",
    "numbers"
   ]
  },
  {
   "cell_type": "markdown",
   "id": "643c9e43",
   "metadata": {},
   "source": [
    "4. *remove():* Removes the first occurrence of a value.\n",
    "5. *pop():* Removes and returns an element by its index.\n",
    "6. *index():* Returns the index of the first occurrence of a value.\n",
    "7. *count():* Counts the number of occurrences of a value.\n",
    "8. *sort():* Sorts the list in ascending order.\n",
    "9. *reverse():* Reverses the order of elements in the list.\n",
    "10. *copy():* Returns a copy of the list."
   ]
  },
  {
   "cell_type": "code",
   "execution_count": 55,
   "id": "95a934e3",
   "metadata": {},
   "outputs": [
    {
     "name": "stdout",
     "output_type": "stream",
     "text": [
      "['m', 'y', 'l', 'i', 's', 't']\n",
      "['m', 'y', 'l', 'i', 's', 't']\n"
     ]
    }
   ],
   "source": [
    "x = ['m', 'y', 'l', 'i', 's', 't']\n",
    "\n",
    "y = x.copy()\n",
    "\n",
    "print(x)\n",
    "print(y)"
   ]
  },
  {
   "cell_type": "markdown",
   "id": "921108fc",
   "metadata": {},
   "source": [
    "#### Looping Through a List"
   ]
  },
  {
   "cell_type": "code",
   "execution_count": 56,
   "id": "f6d52f38",
   "metadata": {},
   "outputs": [
    {
     "name": "stdout",
     "output_type": "stream",
     "text": [
      "Apple\n",
      "Banana\n",
      "Orange\n",
      "Melon\n"
     ]
    }
   ],
   "source": [
    "fruits = ['Apple', 'Banana', 'Orange', 'Melon']\n",
    "\n",
    "for fruit in fruits:\n",
    "    print(fruit)\n",
    "\n",
    "###########Or###########\n",
    "    \n",
    "# for i in range(len(fruits)):\n",
    "#     print(fruits[i])    "
   ]
  },
  {
   "cell_type": "markdown",
   "id": "df058407",
   "metadata": {},
   "source": [
    "#### Examples\n",
    "\n",
    "- Write a Python program that takes a number from the user and converts it to its binary representation (base 2)."
   ]
  },
  {
   "cell_type": "code",
   "execution_count": 57,
   "id": "f6089d39",
   "metadata": {},
   "outputs": [
    {
     "name": "stdout",
     "output_type": "stream",
     "text": [
      "Enter a number:9\n"
     ]
    },
    {
     "data": {
      "text/plain": [
       "[1, 0, 0, 1]"
      ]
     },
     "execution_count": 57,
     "metadata": {},
     "output_type": "execute_result"
    }
   ],
   "source": [
    "num = int(input('Enter a number:'))\n",
    "binary = [] \n",
    "\n",
    "while num > 0:\n",
    "    \n",
    "    res = num % 2\n",
    "    binary.append(res)\n",
    "    num //= 2\n",
    "\n",
    "binary.reverse()\n",
    "# or\n",
    "#binary = binary[::-1]\n",
    "\n",
    "binary"
   ]
  },
  {
   "cell_type": "markdown",
   "id": "05942c33",
   "metadata": {},
   "source": [
    "- Write a program that takes a list of numbers from the user and sorts it, without using the sort() method."
   ]
  },
  {
   "cell_type": "code",
   "execution_count": 58,
   "id": "b905d78c",
   "metadata": {},
   "outputs": [
    {
     "name": "stdout",
     "output_type": "stream",
     "text": [
      "Enter list of numbers (comma separated)-12, 1, -6, 98, -6, 2, 0, 9, 12, 9\n",
      "[-12, -6, -6, 0, 1, 2, 9, 9, 12, 98]\n"
     ]
    }
   ],
   "source": [
    "numbers = input('Enter list of numbers (comma separated)')\n",
    "numbers = numbers.split(',')\n",
    "\n",
    "# Convert the input to a list of integers and remove spaces\n",
    "for i in range(len(numbers)):\n",
    "    numbers[i] = int(numbers[i].strip())\n",
    "    \n",
    "# Sort Algorithm\n",
    "for i in range(len(numbers) - 1):\n",
    "    for j in range(len(numbers) - i - 1):\n",
    "        if (numbers[j] > numbers[j + 1]):\n",
    "            numbers[j], numbers[j + 1] = numbers[j + 1], numbers[j]\n",
    "        \n",
    "print(numbers)"
   ]
  },
  {
   "cell_type": "markdown",
   "id": "26abd6df",
   "metadata": {},
   "source": [
    "#### Assignment\n",
    "\n",
    "- Write a program that, given the first two values of the Fibonacci sequence, generates the sequence up to 15 values.\n",
    "     \n",
    "     Fibonacci sequence = {1, 1, 2, 3, 5, 7, ...}"
   ]
  },
  {
   "cell_type": "markdown",
   "id": "d2bcfb6b",
   "metadata": {},
   "source": [
    "### Tuples\n",
    "\n",
    "A tuple can be envisioned as an ordered and immutable collection of elements, encapsulated within parentheses (). Tuples have the versatility to hold elements of varied data types and serve the purpose of grouping related values.\n",
    "\n",
    "#### Creation of Tuples\n",
    "\n",
    "Tuples come into existence by employing parentheses and separating elements with commas. Although the use of parentheses is optional, it is advisable for clarity and conformity."
   ]
  },
  {
   "cell_type": "code",
   "execution_count": 60,
   "id": "92e3a6d7",
   "metadata": {},
   "outputs": [
    {
     "name": "stdout",
     "output_type": "stream",
     "text": [
      "<class 'tuple'>\n",
      "[5, 6]\n"
     ]
    }
   ],
   "source": [
    "my_tuple = (3.14, )\n",
    "\n",
    "print(type(my_tuple))\n",
    "\n",
    "t1 = (3.14, 'python', [1, 1, 2, 3], (1, 4, 9), True)\n",
    "\n",
    "t2 = 4, 5, 6\n",
    "x, *z = t2\n",
    "print(z)"
   ]
  },
  {
   "cell_type": "markdown",
   "id": "3154229e",
   "metadata": {},
   "source": [
    "#### Accessing Elements\n",
    "\n",
    "Accessing elements within a tuple is achieved through indexing, akin to how it is done with lists.\n",
    "\n",
    "#### Immutability\n",
    "Tuples are immutable, meaning their elements cannot be changed after creation."
   ]
  },
  {
   "cell_type": "code",
   "execution_count": 61,
   "id": "5b2a8c5f",
   "metadata": {},
   "outputs": [
    {
     "name": "stdout",
     "output_type": "stream",
     "text": [
      "Tuples are immutable!\n"
     ]
    }
   ],
   "source": [
    "t1 = (3.14, 'python', [1, 1, 2, 3], (1, 4, 9), True)\n",
    "\n",
    "\n",
    "try:\n",
    "    t1[4] = False\n",
    "    \n",
    "except:\n",
    "    print('Tuples are immutable!')"
   ]
  },
  {
   "cell_type": "markdown",
   "id": "efa4c294",
   "metadata": {},
   "source": [
    "You can modify the members of mutable data structures that are inside a tuple."
   ]
  },
  {
   "cell_type": "code",
   "execution_count": 62,
   "id": "dee0f544",
   "metadata": {},
   "outputs": [
    {
     "name": "stdout",
     "output_type": "stream",
     "text": [
      "(3.14, 'python', [1, 1, 2, 3], (1, 4, 9), True)\n",
      "(3.14, 'python', [1, 1, 2, 2], (1, 4, 9), True)\n"
     ]
    }
   ],
   "source": [
    "t1 = (3.14, 'python', [1, 1, 2, 3], (1, 4, 9), True)\n",
    "\n",
    "print(t1)\n",
    "\n",
    "t1[2][3] = 2\n",
    "\n",
    "print(t1)"
   ]
  },
  {
   "cell_type": "markdown",
   "id": "d5f8bfd0",
   "metadata": {},
   "source": [
    "#### Tuple Methods\n",
    "\n",
    "1. *count(item):* This method returns the number of occurrences of a specified item within the tuple.\n",
    "2. *index(item):* The index() method returns the index of the first occurrence of the specified item. "
   ]
  },
  {
   "cell_type": "code",
   "execution_count": 63,
   "id": "43c68aeb",
   "metadata": {},
   "outputs": [
    {
     "name": "stdout",
     "output_type": "stream",
     "text": [
      "2\n",
      "3\n"
     ]
    }
   ],
   "source": [
    "t1 = 'P', 'R', 'O', 'G', 'R', 'A', 'M', 'M', 'I', 'N', 'G'\n",
    "\n",
    "print(t1.count('M'))\n",
    "\n",
    "print(t1.index('G'))"
   ]
  },
  {
   "cell_type": "code",
   "execution_count": 64,
   "id": "93928d25",
   "metadata": {},
   "outputs": [
    {
     "name": "stdout",
     "output_type": "stream",
     "text": [
      "True\n",
      "False\n"
     ]
    }
   ],
   "source": [
    "t1 = ('f', 'r', 'e', 'e', 'd', 'o', 'm')\n",
    "\n",
    "print('e' in t1)\n",
    "print('E' in t1)"
   ]
  },
  {
   "cell_type": "markdown",
   "id": "2468f427",
   "metadata": {},
   "source": [
    "#### Augmenting Tuple Contents\n",
    "\n",
    "1. *Transformation through List Conversion:* Given the immutability of tuples, one can circumvent this constraint by converting the tuple into a list, adding the desired element(s), and then reverting it back into a tuple.\n"
   ]
  },
  {
   "cell_type": "code",
   "execution_count": 1,
   "id": "9f9452be",
   "metadata": {},
   "outputs": [
    {
     "name": "stdout",
     "output_type": "stream",
     "text": [
      "<class 'tuple'>\n",
      "<class 'list'>\n"
     ]
    },
    {
     "data": {
      "text/plain": [
       "(2, 3, 5, 7, 11)"
      ]
     },
     "execution_count": 1,
     "metadata": {},
     "output_type": "execute_result"
    }
   ],
   "source": [
    "a = (2, 3, 5, 7)\n",
    "b = 11\n",
    "print(type(a))\n",
    "\n",
    "a = list(a)\n",
    "print(type(a))\n",
    "\n",
    "a.append(b)\n",
    "\n",
    "a = tuple(a)\n",
    "a"
   ]
  },
  {
   "cell_type": "markdown",
   "id": "7ec3acdf",
   "metadata": {},
   "source": [
    "2. *Combining Tuples:* Tuples can be merged by creating new tuples and amalgamating them. For addition of one or more items, a new tuple encompassing the item(s) is created and concatenated with the existing tuple."
   ]
  },
  {
   "cell_type": "code",
   "execution_count": 66,
   "id": "25bf97fb",
   "metadata": {},
   "outputs": [
    {
     "data": {
      "text/plain": [
       "(2, 3, 5, 7, 11)"
      ]
     },
     "execution_count": 66,
     "metadata": {},
     "output_type": "execute_result"
    }
   ],
   "source": [
    "a = (2, 3, 5, 7)\n",
    "b = (11, )\n",
    "\n",
    "a = a + b\n",
    "a"
   ]
  },
  {
   "cell_type": "markdown",
   "id": "c70ffa24",
   "metadata": {},
   "source": [
    "#### Assignment\n",
    "\n",
    "You are given a tuple containing the characters of the word 'exercises'. Your task is to perform the following operations:\n",
    "\n",
    "    Task 1: Capitalize the first letter 'e' at the beginning of the word. For example, change 'exercises' to 'Exercises'.\n",
    "\n",
    "    Task 2: Change the word to singular by removing the last 's'. For example, change 'Exercises' to 'Exercise'."
   ]
  },
  {
   "cell_type": "raw",
   "id": "992b7874",
   "metadata": {},
   "source": [
    "my_tuple = 'e', 'x', 'e', 'r', 'c', 'i', 's', 'e', 's'"
   ]
  },
  {
   "cell_type": "markdown",
   "id": "223c91ed",
   "metadata": {},
   "source": [
    "### Dictionary\n",
    "\n",
    "Dictionaries emulate personal data organizers, storing information in key-value pairs. They offer the capability to add, retrieve, and modify data using unique keys.\n",
    "\n",
    "#### Dictionary Creation\n",
    "\n",
    "Dictionaries are established using curly braces {} and specifying the key-value pairs.\n",
    "\n",
    "#### Accessing Values\n",
    "\n",
    "You can access values in a dictionary by referencing their keys."
   ]
  },
  {
   "cell_type": "code",
   "execution_count": 67,
   "id": "9013749a",
   "metadata": {},
   "outputs": [
    {
     "name": "stdout",
     "output_type": "stream",
     "text": [
      "<class 'dict'>\n",
      "{'name': 'python', 'age': 32}\n",
      "32\n"
     ]
    }
   ],
   "source": [
    "my_dict = {}\n",
    "\n",
    "print(type(my_dict))\n",
    "\n",
    "d1 = {'name': 'python', 'age': 32}\n",
    "print(d1)\n",
    "\n",
    "# Access value\n",
    "print(d1['age'])"
   ]
  },
  {
   "cell_type": "markdown",
   "id": "0e951239",
   "metadata": {},
   "source": [
    "#### Modifying and Adding Entries\n",
    "\n",
    "Dictionaries are mutable, so you can modify values or add new key-value pairs."
   ]
  },
  {
   "cell_type": "code",
   "execution_count": 68,
   "id": "e6870a42",
   "metadata": {},
   "outputs": [
    {
     "data": {
      "text/plain": [
       "{'name': 'C#', 'skill': ['Engineer', 'Developer', 'Analyst']}"
      ]
     },
     "execution_count": 68,
     "metadata": {},
     "output_type": "execute_result"
    }
   ],
   "source": [
    "d1 = {}\n",
    "\n",
    "d1['name'] = 'C#'\n",
    "\n",
    "d1['skill'] = ['Engineer', 'Developer', 'Analyst']\n",
    "\n",
    "d1"
   ]
  },
  {
   "cell_type": "code",
   "execution_count": 69,
   "id": "e115fdaa",
   "metadata": {},
   "outputs": [
    {
     "name": "stdout",
     "output_type": "stream",
     "text": [
      "dict_keys([0, 1, 2])\n",
      "True\n",
      "\n",
      "\n",
      "dict_values(['One', 'Two', 'Three'])\n",
      "False\n",
      "\n",
      "\n",
      "dict_items([(0, 'One'), (1, 'Two'), (2, 'Three')])\n",
      "False\n"
     ]
    }
   ],
   "source": [
    "d1 = {0: 'One', 1: 'Two', 2: 'Three'}\n",
    "d2 = {0: 'Four', 1: 'Five', 2: 'Six'}\n",
    "\n",
    "# Print the keys of the dictionary 'd1'\n",
    "print(d1.keys())\n",
    "# Check if the keys of d1 and d2 are equal\n",
    "print(d1.keys() == d2.keys())\n",
    "print('\\n')\n",
    "\n",
    "# Print the values of the dictionary 'd1'\n",
    "print(d1.values())\n",
    "# Check if the values of d1 and d2 are equal\n",
    "print(d1.values() == d2.values())\n",
    "print('\\n')\n",
    "\n",
    "# Print the key-value pairs (items) of the dictionary 'd1'\n",
    "print(d1.items())\n",
    "# Check if the items (key-value pairs) of d1 and d2 are equal\n",
    "print(d1.items() == d2.items())"
   ]
  },
  {
   "cell_type": "code",
   "execution_count": 70,
   "id": "49f83634",
   "metadata": {},
   "outputs": [
    {
     "name": "stdout",
     "output_type": "stream",
     "text": [
      "{1: 9, 2: 41, 3: -5, 4: 12, 5: -1}\n",
      "{1: 9, 2: 41, 3: -5, 4: 12}\n",
      "{2: 41, 3: -5, 4: 12}\n",
      "{}\n",
      "1\n",
      "2\n",
      "4\n",
      "8\n",
      "16\n",
      "{0: 0, 1: 1, 2: 4, 3: 9, 4: 16, 5: 25}\n"
     ]
    }
   ],
   "source": [
    "d2 = {0:7, 1:9, 2:41, 3:-5, 4:12, 5:-1}\n",
    "\n",
    "# Remove the item with key 0\n",
    "d2.pop(0)\n",
    "print(d2)\n",
    "\n",
    "# Remove and print an arbitrary item\n",
    "d2.popitem()\n",
    "print(d2)\n",
    "\n",
    "# Remove the item with key 1\n",
    "del d2[1]\n",
    "print(d2)\n",
    "\n",
    "# Clear all items \n",
    "d2.clear()\n",
    "print(d2)\n",
    "\n",
    "d2 = {0: 1, 1: 2, 2: 4, 3: 8, 4: 16}\n",
    "\n",
    "for i in d2:\n",
    "    print(d2[i])\n",
    "    \n",
    "    squares = {x: x*x for x in range(6)}\n",
    "\n",
    "print(squares)\n",
    "\n",
    "# Or\n",
    "# squares = {}\n",
    "# for i in range(6):\n",
    "#      squares[i] = i * i\n",
    "# squares"
   ]
  },
  {
   "cell_type": "markdown",
   "id": "b27040e9",
   "metadata": {},
   "source": [
    "#### Example\n",
    "\n",
    "- We are sinking! The nearest ship got our SOS call, but they replied in pure gobbledygook! Are ye savvy enough to decode the message, or will we be sleepin' with the fish tonight? All hands on deck!\n",
    "\n",
    "    Whiskey Hotel Four Tango Dash Alpha Romeo Three Dash Yankee Oscar Uniform Dash Sierra One November Kilo India November Golf Dash Four Bravo Zero Uniform Seven"
   ]
  },
  {
   "cell_type": "code",
   "execution_count": 71,
   "id": "e036274f",
   "metadata": {},
   "outputs": [
    {
     "name": "stdout",
     "output_type": "stream",
     "text": [
      "['Whiskey', 'Hotel', 'Four', 'Tango', 'Dash', 'Alpha', 'Romeo', 'Three', 'Dash', 'Yankee', 'Oscar', 'Uniform', 'Dash', 'Sierra', 'One', 'November', 'Kilo', 'India', 'November', 'Golf', 'Dash', 'Four', 'Bravo', 'Zero', 'Uniform', 'Seven']\n",
      "WH4T-AR3-YOU-S1NKING-4B0U7"
     ]
    }
   ],
   "source": [
    "text = '''Whiskey Hotel Four Tango Dash Alpha Romeo Three Dash Yankee Oscar Uniform \n",
    "    Dash Sierra One November Kilo India November Golf Dash Four Bravo Zero Uniform Seven'''\n",
    "\n",
    "text = text.split()\n",
    "print(text)\n",
    "\n",
    "numbers = {'Zero': '0', 'One': 1, 'Two': 2, 'Three': 3, 'Four': 4,\n",
    "           'Five': 5, 'Six': 6, 'Seven': 7, 'Eight': 8, 'Nine': 9, 'Dash':'-' }\n",
    "\n",
    "for word in text:\n",
    "    \n",
    "    if (numbers.get(word)):\n",
    "        print(numbers.get(word), end='')\n",
    "        \n",
    "    else:\n",
    "        print(word[0], end='')\n",
    "\n"
   ]
  },
  {
   "cell_type": "markdown",
   "id": "91bb4273",
   "metadata": {},
   "source": [
    "### Set\n",
    "\n",
    "A set is an unordered collection of unique elements. Sets are useful when you want to store a collection of items *without duplicates*.\n",
    "\n",
    "#### Creating Sets\n",
    "Sets are created using curly braces {} or the set() constructor.\n"
   ]
  },
  {
   "cell_type": "code",
   "execution_count": 72,
   "id": "4690ed74",
   "metadata": {},
   "outputs": [
    {
     "data": {
      "text/plain": [
       "{1, 2, 3, 4, 5}"
      ]
     },
     "execution_count": 72,
     "metadata": {},
     "output_type": "execute_result"
    }
   ],
   "source": [
    "my_set = {1, 2, 2, 2, 2, 3, 4, 5, 5}\n",
    "\n",
    "my_set"
   ]
  },
  {
   "cell_type": "code",
   "execution_count": 73,
   "id": "8a0e617a",
   "metadata": {},
   "outputs": [
    {
     "name": "stdout",
     "output_type": "stream",
     "text": [
      "{1, 2, 3, 4, 5}\n",
      "{3}\n",
      "{1, 2}\n",
      "{1, 2, 4, 5}\n",
      "True\n"
     ]
    }
   ],
   "source": [
    "s1 = {1, 2, 3}\n",
    "s2 = {3, 4, 5}\n",
    "\n",
    "print(s1 | s2)             # Union of s1 and s2\n",
    "print(s1 & s2)             # Intersection of s1 and s2\n",
    "print(s1 - s2)             # Difference of s1 and s2\n",
    "print(s1 ^ s2)             # Symmetric difference of s1 and s2\n",
    "print(s1.issubset(s1))     # s1 is a subset of s1 or not"
   ]
  },
  {
   "cell_type": "markdown",
   "id": "71ff8948",
   "metadata": {},
   "source": [
    "#### Example\n",
    "\n",
    "- Consider a program that explores numbers between 100 and 999. It counts the numbers having exactly two unique digits (excluding 0)."
   ]
  },
  {
   "cell_type": "code",
   "execution_count": 74,
   "id": "6cb38286",
   "metadata": {},
   "outputs": [
    {
     "name": "stdout",
     "output_type": "stream",
     "text": [
      "216\n"
     ]
    }
   ],
   "source": [
    "\n",
    "count = 0\n",
    "for i in range(100, 1000):\n",
    "    x = i\n",
    "    u_digits = set()       # Create a set to store unique digits\n",
    "    \n",
    "    # Loop for extract each digit of the number \n",
    "    while x > 0:\n",
    "        digit = x % 10\n",
    "        # Add to set\n",
    "        u_digits.add(digit)\n",
    "        x = x // 10\n",
    "        \n",
    "    if (len(u_digits) == 2) and (not 0 in u_digits):\n",
    "        # print(y)\n",
    "        count = count + 1\n",
    "\n",
    "print(count)"
   ]
  },
  {
   "cell_type": "markdown",
   "id": "cebbafbe",
   "metadata": {},
   "source": [
    "### Files\n",
    "\n",
    "#### Working with Files in Python\n",
    "\n",
    "In programming, think of a file as a digital container for storing all sorts of data like text, numbers, images, and more. Files are essential for tasks like storing information and managing data in software development. They're a core concept in programming."
   ]
  },
  {
   "cell_type": "code",
   "execution_count": 75,
   "id": "58af2c80",
   "metadata": {},
   "outputs": [],
   "source": [
    "# Open File\n",
    "\n",
    "# f = open(filename, mode)\n",
    "f = open('text.txt')"
   ]
  },
  {
   "cell_type": "markdown",
   "id": "b55392dc",
   "metadata": {},
   "source": [
    "If you don't specify the mode when you open a file, it'll automatically open in read-only mode."
   ]
  },
  {
   "cell_type": "code",
   "execution_count": 76,
   "id": "4138fe08",
   "metadata": {},
   "outputs": [
    {
     "data": {
      "text/plain": [
       "'r'"
      ]
     },
     "execution_count": 76,
     "metadata": {},
     "output_type": "execute_result"
    }
   ],
   "source": [
    "f.mode"
   ]
  },
  {
   "cell_type": "markdown",
   "id": "5bf5ec46",
   "metadata": {},
   "source": [
    "When working with files, you can use different modes, each designed for a specific purpose. These modes are represented by combinations of two letters and a plus sign (+). For example, 'r' stands for read mode, 'w' for write mode, 'a' for append mode, 'b' indicates binary mode, and the '+' sign means the file can be both read from and written to at the same time."
   ]
  },
  {
   "cell_type": "code",
   "execution_count": 77,
   "id": "046085aa",
   "metadata": {},
   "outputs": [],
   "source": [
    "# Read (text mode)\n",
    "f = open('text.txt', 'r')\n",
    "\n",
    "# Read (binary mode)\n",
    "f = open('text.txt', 'rb')\n",
    "\n",
    "# Read and Write (binary mode)\n",
    "f = open('text.txt', 'rb+')\n",
    "\n",
    "# Read and Write(text mode)\n",
    "f = open('text.txt', 'r+')\n",
    "\n",
    "# Write and Read(text mode)\n",
    "f = open('text.txt', 'w+')\n",
    "\n",
    "# Append and Read(text mode)\n",
    "f = open('text.txt', 'a+')"
   ]
  },
  {
   "cell_type": "markdown",
   "id": "2daddbcb",
   "metadata": {},
   "source": [
    "It's a good idea to close files once you're done using them. If you don't, you might run into an error saying 'too many files open' when Python reaches its limit for open files."
   ]
  },
  {
   "cell_type": "code",
   "execution_count": 78,
   "id": "49b0cabb",
   "metadata": {},
   "outputs": [
    {
     "data": {
      "text/plain": [
       "True"
      ]
     },
     "execution_count": 78,
     "metadata": {},
     "output_type": "execute_result"
    }
   ],
   "source": [
    "f.close()\n",
    "\n",
    "f.closed"
   ]
  },
  {
   "cell_type": "markdown",
   "id": "f47c244e",
   "metadata": {},
   "source": [
    "Using context managers with the 'with' command, you can open the file, do your work, and it will close automatically when you're finished."
   ]
  },
  {
   "cell_type": "code",
   "execution_count": 79,
   "id": "2092b841",
   "metadata": {},
   "outputs": [
    {
     "data": {
      "text/plain": [
       "True"
      ]
     },
     "execution_count": 79,
     "metadata": {},
     "output_type": "execute_result"
    }
   ],
   "source": [
    "with open('text.txt', 'r') as f:\n",
    "    pass\n",
    "\n",
    "f.closed"
   ]
  },
  {
   "cell_type": "markdown",
   "id": "dbec8e7c",
   "metadata": {},
   "source": [
    "To read the entire file contents into a string, use the read() method."
   ]
  },
  {
   "cell_type": "code",
   "execution_count": 80,
   "id": "074d5c7a",
   "metadata": {},
   "outputs": [
    {
     "name": "stdout",
     "output_type": "stream",
     "text": [
      "\n"
     ]
    }
   ],
   "source": [
    "with open('text.txt', 'r') as f:\n",
    "    print(f.read())"
   ]
  },
  {
   "cell_type": "code",
   "execution_count": 82,
   "id": "cd6138e6",
   "metadata": {},
   "outputs": [
    {
     "name": "stdout",
     "output_type": "stream",
     "text": [
      "['abcd\\n', '1234\\n', 'efg\\n', '456\\n', 'hi\\n', '78\\n', 'j\\n', '9']\n",
      "abcd\n",
      "\n",
      "1234\n",
      "\n",
      "efg\n",
      "\n",
      "abcd\n",
      "\n",
      "6\n",
      "\n",
      "efg\n",
      "456\n",
      "hi\n",
      "78\n",
      "j\n",
      "9\n"
     ]
    }
   ],
   "source": [
    "# Read all lines into a list\n",
    "with open('text.txt', 'r') as f:\n",
    "    print(f.readlines())\n",
    "\n",
    "# Read one line at a time    \n",
    "with open('text.txt', 'r') as f:\n",
    "    print(f.readline()) \n",
    "    print(f.readline())  \n",
    "    print(f.readline())\n",
    "    \n",
    "# Read only the first 5 characters\n",
    "with open('text.txt', 'r') as f:\n",
    "    print(f.read(5))\n",
    "    # Get the current file position(cursor)\n",
    "    print(f.tell())\n",
    "\n",
    "# Move to the 10th byte from the beginning\n",
    "with open('text.txt', 'r') as f:\n",
    "    f.seek(10)\n",
    "    print(f.read())"
   ]
  },
  {
   "cell_type": "code",
   "execution_count": 83,
   "id": "12dae31c",
   "metadata": {},
   "outputs": [],
   "source": [
    "# Writing to files\n",
    "\n",
    "with open('text1.txt', 'w') as f:\n",
    "    f.write('Hello World!')"
   ]
  },
  {
   "cell_type": "markdown",
   "id": "313c265e",
   "metadata": {},
   "source": [
    "In writing mode, if the file already exists, it will be truncated (its contents will be deleted). If the file doesn't exist, a new empty file will be created."
   ]
  },
  {
   "cell_type": "code",
   "execution_count": 84,
   "id": "2e3d9f64",
   "metadata": {},
   "outputs": [],
   "source": [
    "List1 = ['a', '1', 'b', '2']\n",
    "\n",
    "with open('text1.txt', 'w') as f:\n",
    "    f.writelines(List1)"
   ]
  },
  {
   "cell_type": "markdown",
   "id": "122cf89a",
   "metadata": {},
   "source": [
    "In append mode, if the file already exists, it opens it for reading and positions the file pointer at the end, allowing you to read its content.. If the file doesn't exist, a new empty file will be created."
   ]
  },
  {
   "cell_type": "code",
   "execution_count": 85,
   "id": "f6c2c4c0",
   "metadata": {},
   "outputs": [],
   "source": [
    "# Append mode\n",
    "\n",
    "with open('text1.txt', 'a') as f:\n",
    "    f.write('\\n c3')"
   ]
  },
  {
   "cell_type": "code",
   "execution_count": 86,
   "id": "db900b6a",
   "metadata": {},
   "outputs": [],
   "source": [
    "# Handling exceptions\n",
    "\n",
    "try:\n",
    "    with open(\"text.txt\", \"r\") as f:\n",
    "        file = f.read()\n",
    "except FileNotFoundError:\n",
    "     print(\"File not found!\")\n",
    "except PermissionError:\n",
    "     print(\"Permission denied!\")"
   ]
  },
  {
   "cell_type": "markdown",
   "id": "f8b7116d",
   "metadata": {},
   "source": [
    "#### Working with CSV Files\n",
    "\n",
    "CSV (Comma-Separated Values) is a simple text format widely used for storing spreadsheet and database data. In a CSV file, each line represents a row of data, with values separated by commas or other characters."
   ]
  },
  {
   "cell_type": "code",
   "execution_count": 87,
   "id": "9abcdcb5",
   "metadata": {},
   "outputs": [],
   "source": [
    "# Import module\n",
    "\n",
    "import csv"
   ]
  },
  {
   "cell_type": "code",
   "execution_count": 88,
   "id": "0fca5f55",
   "metadata": {},
   "outputs": [
    {
     "name": "stdout",
     "output_type": "stream",
     "text": [
      "['Position', 'Title', 'Rate']\n",
      "['1', 'The Shawshank Redemption', '9.3']\n",
      "['2', 'The Godfather', '9.2']\n",
      "['3', 'The Dark Knight', '9.0']\n",
      "['4', 'The Godfather Part II', '9.0']\n",
      "['5', '12 Angry Men', '9.0']\n"
     ]
    }
   ],
   "source": [
    "# Reading csv file\n",
    "\n",
    "with open('imdb_data.csv', 'r') as file:\n",
    "    csv_reader = csv.reader(file)\n",
    "    for row in csv_reader:\n",
    "        print(row)"
   ]
  },
  {
   "cell_type": "code",
   "execution_count": 89,
   "id": "6ee705fd",
   "metadata": {},
   "outputs": [],
   "source": [
    "# Writing csv file (from a list)\n",
    "\n",
    "List = [['Position', 'Title', 'Rate'], \n",
    "        [1, 'The Shawshank Redemption', 9.3],\n",
    "        [2, 'The Godfather', 9.2],\n",
    "        [3, 'The Dark Knight', 9.0],\n",
    "        [4, 'The Godfather Part II', 9.0],\n",
    "        [5, '12 Angry Men', 9.0]]\n",
    "\n",
    "with open('imdb_data.csv', 'w', newline='') as file:\n",
    "    csv_writer = csv.writer(file)\n",
    "    for row in List:\n",
    "        csv_writer.writerow(row)\n",
    "        \n",
    "# Writing csv file (from a dictionary)\n",
    "        data = [\n",
    "    {'Position': 6, 'Title': 'Schindler,s List', 'Rate': 9.0},\n",
    "    {'Position': 7, 'Title': 'The Lord of the Rings: The Return of the King', 'Rate': 9.0},    \n",
    "    {'Position': 8, 'Title': 'Pulp Fiction', 'Rate': 8.9},\n",
    "    {'Position': 9, 'Title': 'The Lord of the Rings: The Fellowship of the Ring', 'Rate': 8.8},        \n",
    "    {'Position': 10, 'Title': 'The Good, the Bad and the Ugly', 'Rate': 8.8}\n",
    "]\n",
    "\n",
    "with open('imdb_data2.csv', 'w', newline='') as file:\n",
    "    field_names = ['Position', 'Title', 'Rate']\n",
    "    csv_writer = csv.DictWriter(file, fieldnames=field_names)\n",
    "    csv_writer.writeheader()\n",
    "    for row in data:\n",
    "        csv_writer.writerow(row)"
   ]
  },
  {
   "cell_type": "code",
   "execution_count": 90,
   "id": "5bd0ee46",
   "metadata": {},
   "outputs": [
    {
     "name": "stdout",
     "output_type": "stream",
     "text": [
      "Position: 1, Title: The Shawshank Redemption, Rate: 9.3\n",
      "Position: 2, Title: The Godfather, Rate: 9.2\n",
      "Position: 3, Title: The Dark Knight, Rate: 9.0\n",
      "Position: 4, Title: The Godfather Part II, Rate: 9.0\n",
      "Position: 5, Title: 12 Angry Men, Rate: 9.0\n"
     ]
    }
   ],
   "source": [
    "# Access and manipulate data using column names\n",
    "\n",
    "with open('imdb_data.csv', 'r') as file:\n",
    "    csv_reader = csv.DictReader(file)\n",
    "    for row in csv_reader:\n",
    "        position = row['Position']\n",
    "        title = row['Title']\n",
    "        rate = row['Rate']\n",
    "        print(f'Position: {position}, Title: {title}, Rate: {rate}')\n"
   ]
  },
  {
   "cell_type": "markdown",
   "id": "03b78b74",
   "metadata": {},
   "source": [
    "#### Reading and Writing JSON Files\n",
    "\n",
    "JSON, or JavaScript Object Notation, is a widely-used format for storing and sharing structured data. It's easy for both humans and machines to read, making it popular for data storage and exchange in various applications, including web development."
   ]
  },
  {
   "cell_type": "code",
   "execution_count": 91,
   "id": "6f912319",
   "metadata": {},
   "outputs": [],
   "source": [
    "# Import module\n",
    "\n",
    "import json"
   ]
  },
  {
   "cell_type": "code",
   "execution_count": 92,
   "id": "350878aa",
   "metadata": {},
   "outputs": [
    {
     "name": "stdout",
     "output_type": "stream",
     "text": [
      "{'Rank': 1, 'University': 'Massachusetts Institute of Technology (MIT)', 'Overall Score': 100}\n"
     ]
    }
   ],
   "source": [
    "# Loading JSON file \n",
    "\n",
    "with open('qs_data.json', 'r') as file:\n",
    "    json_object = json.load(file)\n",
    "    print(json_object)"
   ]
  },
  {
   "cell_type": "code",
   "execution_count": 93,
   "id": "a1f9d832",
   "metadata": {},
   "outputs": [],
   "source": [
    "# Writing JSON files \n",
    "\n",
    "qs = {'Rank': 1, 'University': 'Massachusetts Institute of Technology (MIT)', 'Overall Score': 100}\n",
    "\n",
    "with open('qs_data.json', 'w') as file:\n",
    "    json.dump(qs, file, indent=4)"
   ]
  },
  {
   "cell_type": "markdown",
   "id": "10f0eeb1",
   "metadata": {},
   "source": [
    "## Object-Oriented Programming\n",
    "\n",
    "Object-oriented programming (OOP) is a programming paradigm inspired by real-world concepts. In this approach, development typically begins with the creation of the smallest units, which are then interconnected to build the entire program, following a top-down approach.\n",
    "\n",
    "To start with object-oriented programming, it's essential to grasp its fundamental concepts.\n",
    "\n",
    "### Key Concepts of OOP\n",
    "\n",
    "- *Classes:* A blueprint that defines the structure and behavior of an object. It's a template that describes the attributes (data) and methods (functions) an object can have. For example, the class \"Car\" describes what a car should have and do.\n",
    "\n",
    "- *Objects:* An instance of a class. It represents a specific instance of the class, with its own unique attributes and behaviors.\n",
    "\n",
    "- *Attributes:* Data associated with a class or object, defining its characteristics or properties. For a \"Car\" class, attributes might include color, model, and speed.\n",
    "\n",
    "- *Methods:* Functions defined within a class, representing the actions or behaviors of the class. A \"Car\" object might have methods like \"start_engine\" and \"drive.\"\n",
    "\n",
    "- *Encapsulation:* Encapsulation is the bundling of data (attributes) and functions (methods) that operate on that data into a single unit, i.e., a class. It helps in controlling access to some of the object's components.\n",
    "\n",
    "- *Inheritance:* Inheritance is the ability of a class (child or derived class) to inherit properties and behaviors (attributes and methods) from another class (parent or base class). It promotes code reuse and extensibility. If we have a \"Vehicle\" class, we can create a \"Car\" class that inherits some of its attributes and methods. \n",
    "\n",
    "- *Polymorphism:* Polymorphism means \"many forms.\" It allows objects to be treated as instances of their parent class, enabling multiple classes to have methods with the same name but different implementations. A \"Vehicle\" class method can work differently for a \"Car\" and a \"Bicycle.\"\n",
    "\n"
   ]
  },
  {
   "cell_type": "code",
   "execution_count": 94,
   "id": "6ac63900",
   "metadata": {},
   "outputs": [
    {
     "name": "stdout",
     "output_type": "stream",
     "text": [
      "<class 'type'>\n",
      "<class '__main__.my_cls'>\n",
      "True\n"
     ]
    }
   ],
   "source": [
    "# Creating Class\n",
    "# You define a class using the class keyword followed by the class name and a colon.\n",
    "class my_cls:\n",
    "    # Class body\n",
    "    pass\n",
    "\n",
    "print(type(my_cls))\n",
    "\n",
    "# Creating Objects\n",
    "# To create an object (an instance of the class), you simply call the class as if it were a function. \n",
    "my_obj = my_cls()\n",
    "\n",
    "print(type(my_obj))\n",
    "print(isinstance(my_obj, my_cls))"
   ]
  },
  {
   "cell_type": "markdown",
   "id": "5f954d13",
   "metadata": {},
   "source": [
    "The instances of each class are in their own scope and completely isolated from other objects."
   ]
  },
  {
   "cell_type": "code",
   "execution_count": 95,
   "id": "deb80ce4",
   "metadata": {},
   "outputs": [
    {
     "name": "stdout",
     "output_type": "stream",
     "text": [
      "2208557797280\n",
      "2208557793536\n",
      "False\n"
     ]
    }
   ],
   "source": [
    "class person:\n",
    "    pass\n",
    "\n",
    "x = person()\n",
    "y = person()\n",
    "\n",
    "# Getting the address of the location stored in memory\n",
    "print(id(x))\n",
    "print(id(y))\n",
    "\n",
    "print(id(x)==id(y))"
   ]
  },
  {
   "cell_type": "markdown",
   "id": "a6a8f7f4",
   "metadata": {},
   "source": [
    "Here is an example:"
   ]
  },
  {
   "cell_type": "code",
   "execution_count": 96,
   "id": "515c56bb",
   "metadata": {},
   "outputs": [
    {
     "name": "stdout",
     "output_type": "stream",
     "text": [
      "Ford company produces the Mustang car.\n",
      "Dodge company produces the Challenger car.\n"
     ]
    }
   ],
   "source": [
    "class car:           # Blueprint\n",
    "    pass\n",
    "\n",
    "car1 = car()        # Object 1\n",
    "\n",
    "# Attributes\n",
    "car1.brand = 'Ford'\n",
    "car1.model = 'Mustang'\n",
    "\n",
    "car2 = car()        # Object 2\n",
    "\n",
    "# Attributes\n",
    "car2.brand = 'Dodge'\n",
    "car2.model = 'Challenger'\n",
    "\n",
    "print(f'{car1.brand} company produces the {car1.model} car.')\n",
    "print(f'{car2.brand} company produces the {car2.model} car.')"
   ]
  },
  {
   "cell_type": "markdown",
   "id": "70030e45",
   "metadata": {},
   "source": [
    "The program written in the previous section can be restructured to align more closely with the principles of object-oriented programming. This restructuring will result in a better-organized structure and eliminate the repetition of certain lines."
   ]
  },
  {
   "cell_type": "code",
   "execution_count": 97,
   "id": "b0ca0eea",
   "metadata": {},
   "outputs": [
    {
     "name": "stdout",
     "output_type": "stream",
     "text": [
      "Ford company produces the Mustang car.\n",
      "Dodge company produces the Challenger car.\n",
      "True\n",
      "False\n"
     ]
    }
   ],
   "source": [
    "class car:\n",
    "    \n",
    "    # Initilize Method \n",
    "    def __init__(self, brand, model):\n",
    "        self.brand = brand\n",
    "        self.model = model\n",
    "    \n",
    "    # Initilize Method     \n",
    "    def show(self):\n",
    "        print(f'{self.brand} company produces the {self.model} car.')\n",
    "        \n",
    "car1 = car('Ford', 'Mustang')\n",
    "car2 = car('Dodge', 'Challenger')\n",
    "\n",
    "car1.show()\n",
    "car2.show()\n",
    "\n",
    "# Determing whether an object can be called or not\n",
    "print(callable(car))\n",
    "print(callable(car1))"
   ]
  },
  {
   "cell_type": "markdown",
   "id": "f065aea0",
   "metadata": {},
   "source": [
    "*Tip:* In Python, *self* is a convention used within class methods to reference the instance of the class itself. It is always the first parameter in class method definitions and serves as a way to access and manipulate the instance's attributes and methods. For instance, when you create a method in a class and want to access or modify an attribute belonging to that instance, you use self to do so. It helps maintain clarity and proper scoping within the class, allowing for effective interaction with the instance's data and behavior."
   ]
  },
  {
   "cell_type": "markdown",
   "id": "c3e11fdb",
   "metadata": {},
   "source": [
    "### Types of Variables\n",
    " \n",
    "Class variables and instance variables are two types of variables in object-oriented programming that are used within classes in Python.\n",
    "\n",
    "1. *Class Variables:*\n",
    "\n",
    "Class variables are defined within a class but outside of methods. They're shared among all instances, accessed using the class name, and store common attributes for all instances.\n",
    "\n",
    "2. *Instance Variables:*\n",
    "\n",
    "Instance variables in Python are unique to each instance of the class, belonging exclusively to them. They are defined within methods using 'self' and accessed through the instance name."
   ]
  },
  {
   "cell_type": "code",
   "execution_count": 98,
   "id": "212fe6f1",
   "metadata": {},
   "outputs": [
    {
     "name": "stdout",
     "output_type": "stream",
     "text": [
      "Amin is a Biomedical Engineering student with student number 202333001\n",
      "\n",
      " {'name': 'Amin', 'std_number': 202333001}\n"
     ]
    }
   ],
   "source": [
    "class BME_Student:\n",
    "    # Class Variable\n",
    "    major = 'Biomedical Engineering student'\n",
    "    \n",
    "    def __init__(self, name, std_number):\n",
    "        # Instance Variables\n",
    "        self.name = name\n",
    "        self.std_number = std_number\n",
    "        \n",
    "    def show(self):\n",
    "        print(f'{self.name} is a {BME_Student.major} with student number {self.std_number}')\n",
    "        \n",
    "std1 = BME_Student('Amin', 202333001)\n",
    "std1.show()\n",
    "\n",
    "print('\\n',std1.__dict__)"
   ]
  },
  {
   "cell_type": "markdown",
   "id": "28931f51",
   "metadata": {},
   "source": [
    "### Types of Methods\n",
    "\n",
    "In object-oriented programming, three main types of methods define the behavior and operations within a class: instance methods, class methods, and static methods. Instance methods serve as personalized actions, enabling each object to interact based on its distinct attributes. Class methods, conversely, function at a collective level, involving the entire class and addressing shared attributes or tasks. In contrast, static methods stand as versatile, stand-alone actions devoid of a direct association with any particular object or class, providing a more universal functionality."
   ]
  },
  {
   "cell_type": "code",
   "execution_count": 99,
   "id": "09ed8d0b",
   "metadata": {},
   "outputs": [
    {
     "name": "stdout",
     "output_type": "stream",
     "text": [
      "Pouya scored 18.5 in the exam.\n",
      "Pouya scored 92.5 in the exam.\n",
      "Fail\n"
     ]
    }
   ],
   "source": [
    "class Student:\n",
    "    \n",
    "    def __init__(self, name, score):\n",
    "        self.name = name\n",
    "        self.score = score\n",
    "\n",
    "    # Instance Method\n",
    "    def show(self):\n",
    "        print(f'{self.name} scored {self.score} in the exam.')\n",
    "\n",
    "    # Class Method\n",
    "    @classmethod\n",
    "    def percent(cls, name, score):\n",
    "        score = (score * 100) / 20\n",
    "        return cls(name, score)\n",
    "\n",
    "    # Static Method\n",
    "    @staticmethod\n",
    "    def pass_fail(score):\n",
    "        if score >= 10:\n",
    "            return 'Pass!'            \n",
    "        else:\n",
    "            return 'Fail'\n",
    "\n",
    "std1 = Student('Pouya', 18.5).show()\n",
    "\n",
    "std1 = Student.percent('Pouya', 18.5).show()\n",
    "\n",
    "print(Student.pass_fail(9.9))"
   ]
  },
  {
   "cell_type": "markdown",
   "id": "4ae84c05",
   "metadata": {},
   "source": [
    "### Buit-in Methods\n",
    "\n",
    "here are some built-in methods that are commonly used in Python classes:"
   ]
  },
  {
   "cell_type": "raw",
   "id": "359594b2",
   "metadata": {},
   "source": [
    "__new__: The new method is a fundamental part of object creation in Python. It's called before init (The only method that is executed before init) and is responsible for creating and returning a new instance of the class. With the new method, it is possible to determine that the class is created only in certain conditions.\n",
    "\n",
    "__str__: This method returns a string representation of the object. It's often used for debugging and printing objects.\n",
    "\n",
    "__add__: This method is invoked when using the + operator with instances of the class. It defines how objects of the class should behave when added.\n",
    "\n",
    "__repr__: This method also returns a string representation of the object, but it should be unambiguous and more suitable for developers.\n",
    "\n",
    "__len__: This method returns the length of the object. It's used when the built-in len() function is called on an instance of the class.\n",
    "\n",
    "__del__: This method is called when an object is about to be destroyed. It can be used to clean up resources or perform other actions before an object is deleted.\n",
    "\n",
    "__getitem__ and __setitem__: These methods allow instances to be accessed using square bracket notation. __getitem__ enables getting values, and __setitem__ enables setting values.\n",
    "\n",
    "__iter__ and __next__: These methods enable iteration over the object. __iter__ returns an iterator object, and __next__ returns the next value in the iteration.\n",
    "\n",
    "__contains__: This method allows you to define the behavior of the in operator for your object."
   ]
  },
  {
   "cell_type": "code",
   "execution_count": 100,
   "id": "fbed8429",
   "metadata": {},
   "outputs": [
    {
     "name": "stdout",
     "output_type": "stream",
     "text": [
      "<class 'NoneType'>\n"
     ]
    }
   ],
   "source": [
    "# __new__ method\n",
    "\n",
    "class Person:\n",
    "    \n",
    "    def __new__(self, age, *args, **kwargs):\n",
    "        \n",
    "        if age < 18:\n",
    "            return None\n",
    "        \n",
    "        else:\n",
    "            return super().__new__(self, *args, **kwargs)\n",
    "        \n",
    "    def __init__ (self, age):\n",
    "        self.age = age\n",
    "        \n",
    "\n",
    "print(type(Person(15)))"
   ]
  },
  {
   "cell_type": "code",
   "execution_count": 101,
   "id": "c92d99c0",
   "metadata": {},
   "outputs": [
    {
     "name": "stdout",
     "output_type": "stream",
     "text": [
      "<class '__main__.Person'>\n"
     ]
    }
   ],
   "source": [
    "print(type(Person(22)))"
   ]
  },
  {
   "cell_type": "code",
   "execution_count": 102,
   "id": "db0b8fdb",
   "metadata": {},
   "outputs": [
    {
     "name": "stdout",
     "output_type": "stream",
     "text": [
      "Total income 35700\n"
     ]
    }
   ],
   "source": [
    "# __add__ method\n",
    "\n",
    "class Company:\n",
    "    \n",
    "    def __init__(self, name, income):\n",
    "        self.name = name\n",
    "        self.income = income\n",
    "    \n",
    "    def __add__(self, other):\n",
    "        return self.income + other.income\n",
    "\n",
    "s1 = Company('Dwight', 23700)\n",
    "s2 = Company('Jim', 12000)\n",
    "\n",
    "print('Total income', s1 + s2)"
   ]
  },
  {
   "cell_type": "code",
   "execution_count": 103,
   "id": "85cfb537",
   "metadata": {},
   "outputs": [
    {
     "name": "stdout",
     "output_type": "stream",
     "text": [
      "2023/9/12\n"
     ]
    }
   ],
   "source": [
    "# __str__ method\n",
    "\n",
    "class Cal:\n",
    "    \n",
    "    def __init__(self, year, month, day):\n",
    "        self.year = year\n",
    "        self.month = month\n",
    "        self.day = day\n",
    "    \n",
    "    def __str__(self):\n",
    "        return f'{self.year}/{self.month}/{self.day}'\n",
    "\n",
    "    \n",
    "t = Cal(2023, 9, 12)\n",
    "\n",
    "print(t)"
   ]
  },
  {
   "cell_type": "markdown",
   "id": "802aa4f8",
   "metadata": {},
   "source": [
    "### Inheritance\n",
    "\n",
    "Inheritance involves starting with a base or parent class, often referred to as a blueprint, which encapsulates certain properties. Subsequently, a new class, often termed the 'child' class, is created to inherit these defined properties from the base class."
   ]
  },
  {
   "cell_type": "code",
   "execution_count": 104,
   "id": "a0efc302",
   "metadata": {},
   "outputs": [
    {
     "name": "stdout",
     "output_type": "stream",
     "text": [
      "Jane is a Bsc student in Biomedical Engineering.\n",
      "Ted is a Msc student in Bioelectrical Engineering.\n"
     ]
    }
   ],
   "source": [
    "# Parent\n",
    "class BME_Student:\n",
    "    \n",
    "    major = 'Biomedical Engineering'\n",
    "    \n",
    "    def __init__(self, name, grade):\n",
    "        \n",
    "        self.name = name\n",
    "        self.grade = grade\n",
    "        \n",
    "    def show(self):\n",
    "        print(f'{self.name} is a {self.grade} student in {self.major}.')\n",
    "        \n",
    "# Child1\n",
    "class Electric(BME_Student):\n",
    "    major = 'Bioelectrical Engineering'\n",
    "\n",
    "# Child2\n",
    "class Mechanic(BME_Student):\n",
    "    major = 'Biomechanical Engineering'\n",
    "\n",
    "# Child3    \n",
    "class Material(BME_Student):\n",
    "    major = 'Biomaterial Engineering'\n",
    "    \n",
    "\n",
    "std1 = BME_Student('Jane', 'Bsc').show()\n",
    "std2 = Electric('Ted', 'Msc').show()\n"
   ]
  },
  {
   "cell_type": "markdown",
   "id": "43833d62",
   "metadata": {},
   "source": [
    "#### Multiple Inheritance\n",
    "\n",
    "This variant allows a class to inherit traits from more than one class, similar to inheriting attributes from both sides of a family."
   ]
  },
  {
   "cell_type": "code",
   "execution_count": 105,
   "id": "5f17ac3a",
   "metadata": {},
   "outputs": [],
   "source": [
    "class Amirkabir:\n",
    "    pass\n",
    "\n",
    "class BME_Dept:\n",
    "    pass\n",
    "\n",
    "class Mech:\n",
    "    pass\n",
    "\n",
    "class Student(Mech, BME_Dept, Amirkabir):\n",
    "    pass    "
   ]
  },
  {
   "cell_type": "markdown",
   "id": "7d7e769e",
   "metadata": {},
   "source": [
    "#### MRO\n",
    "\n",
    "Method Resolution Order (MRO) refers to the sequence in which a programming language determines the method to be executed in the context of multiple inheritance. When a class inherits from multiple parent classes, determining the order in which methods are invoked becomes crucial."
   ]
  },
  {
   "cell_type": "code",
   "execution_count": 106,
   "id": "b5ac2c99",
   "metadata": {},
   "outputs": [
    {
     "name": "stdout",
     "output_type": "stream",
     "text": [
      "Help on class Student in module __main__:\n",
      "\n",
      "class Student(Mech, BME_Dept, Amirkabir)\n",
      " |  Method resolution order:\n",
      " |      Student\n",
      " |      Mech\n",
      " |      BME_Dept\n",
      " |      Amirkabir\n",
      " |      builtins.object\n",
      " |  \n",
      " |  Data descriptors inherited from Mech:\n",
      " |  \n",
      " |  __dict__\n",
      " |      dictionary for instance variables (if defined)\n",
      " |  \n",
      " |  __weakref__\n",
      " |      list of weak references to the object (if defined)\n",
      "\n"
     ]
    }
   ],
   "source": [
    "help(Student)"
   ]
  },
  {
   "cell_type": "code",
   "execution_count": 107,
   "id": "a1fa8f7d",
   "metadata": {},
   "outputs": [
    {
     "name": "stdout",
     "output_type": "stream",
     "text": [
      "(<class '__main__.Student'>, <class '__main__.Mech'>, <class '__main__.BME_Dept'>, <class '__main__.Amirkabir'>, <class 'object'>)\n"
     ]
    }
   ],
   "source": [
    "# Or Directly\n",
    "print(Student.__mro__)"
   ]
  },
  {
   "cell_type": "markdown",
   "id": "1c7e8986",
   "metadata": {},
   "source": [
    "The default MRO algorithm follows a depth-first, left-to-right approach. It starts from the derived class and traverses through the parent classes from left to right, respecting the order in which they are inherited."
   ]
  },
  {
   "cell_type": "markdown",
   "id": "5c2ebcd4",
   "metadata": {},
   "source": [
    "### Abstraction\n",
    "\n",
    "Abstraction in Object-Oriented Programming (OOP) is the technique of simplifying the representation of real-world entities, focusing on essential features while concealing complexities. In this context, abstract classes play a crucial role. They contain abstract methods, acting as templates for child classes and compelling them to overrides the parent methods. Essentially, abstraction provides a streamlined view, guiding the structured development of detailed implementations in child classes."
   ]
  },
  {
   "cell_type": "code",
   "execution_count": 108,
   "id": "09963a8a",
   "metadata": {},
   "outputs": [],
   "source": [
    "from abc import ABC, abstractmethod\n",
    "\n",
    "# Abstract Class\n",
    "class Car(ABC):\n",
    "    \n",
    "    def show(self):\n",
    "        pass\n",
    "    \n",
    "class Benz(Car):\n",
    "    pass\n",
    "\n",
    "a = Benz()"
   ]
  },
  {
   "cell_type": "markdown",
   "id": "a29aebb2",
   "metadata": {},
   "source": [
    "Tip: If the 'abs' command is omitted before the method, it's recommended to rewrite that method in the child class. The program will run without error in this case. Conversely, if the 'abs' command precedes the method, the program will not execute unless the method is overridden in the child class."
   ]
  },
  {
   "cell_type": "code",
   "execution_count": 109,
   "id": "6edd2083",
   "metadata": {},
   "outputs": [
    {
     "ename": "TypeError",
     "evalue": "Can't instantiate abstract class Benz with abstract method show",
     "output_type": "error",
     "traceback": [
      "\u001b[1;31m---------------------------------------------------------------------------\u001b[0m",
      "\u001b[1;31mTypeError\u001b[0m                                 Traceback (most recent call last)",
      "\u001b[1;32m~\\AppData\\Local\\Temp\\ipykernel_16660\\1039988710.py\u001b[0m in \u001b[0;36m<module>\u001b[1;34m\u001b[0m\n\u001b[0;32m     10\u001b[0m     \u001b[1;32mpass\u001b[0m\u001b[1;33m\u001b[0m\u001b[1;33m\u001b[0m\u001b[0m\n\u001b[0;32m     11\u001b[0m \u001b[1;33m\u001b[0m\u001b[0m\n\u001b[1;32m---> 12\u001b[1;33m \u001b[0ma\u001b[0m \u001b[1;33m=\u001b[0m \u001b[0mBenz\u001b[0m\u001b[1;33m(\u001b[0m\u001b[1;33m)\u001b[0m\u001b[1;33m\u001b[0m\u001b[1;33m\u001b[0m\u001b[0m\n\u001b[0m",
      "\u001b[1;31mTypeError\u001b[0m: Can't instantiate abstract class Benz with abstract method show"
     ]
    }
   ],
   "source": [
    "from abc import ABC, abstractmethod\n",
    "\n",
    "# Abstract Class\n",
    "class Car(ABC):\n",
    "    @abstractmethod\n",
    "    def show(self):\n",
    "        pass\n",
    "    \n",
    "class Benz(Car):\n",
    "    pass\n",
    "\n",
    "a = Benz()"
   ]
  },
  {
   "cell_type": "code",
   "execution_count": 110,
   "id": "95789983",
   "metadata": {},
   "outputs": [],
   "source": [
    "from abc import ABC, abstractmethod\n",
    "\n",
    "# Abstract Class\n",
    "class Car(ABC):\n",
    "    @abstractmethod\n",
    "    def show(self):\n",
    "        pass\n",
    "    \n",
    "class Benz(Car):\n",
    "    def show(self):\n",
    "        pass\n",
    "\n",
    "a = Benz()"
   ]
  },
  {
   "cell_type": "markdown",
   "id": "934ae1b7",
   "metadata": {},
   "source": [
    "### Polymorphism\n",
    "\n",
    "A method in the parent class can be redefined in a child class, allowing different implementations while keeping the method name consistent. This promotes a cleaner and more organized code structure."
   ]
  },
  {
   "cell_type": "code",
   "execution_count": 111,
   "id": "0ae09085",
   "metadata": {},
   "outputs": [
    {
     "name": "stdout",
     "output_type": "stream",
     "text": [
      "Meow\n"
     ]
    }
   ],
   "source": [
    "from abc import ABC, abstractmethod\n",
    "\n",
    "class Animal(ABC):\n",
    "    \n",
    "    def __init__(self, name):\n",
    "        self.name = name\n",
    "        \n",
    "    @abstractmethod\n",
    "    def speak(self):\n",
    "        pass\n",
    "\n",
    "class Cat(Animal):\n",
    "    \n",
    "    def speak(self):\n",
    "        print('Meow')\n",
    "    \n",
    "class Dog(Animal):\n",
    "    \n",
    "    def speak(self):\n",
    "        print('Woof')\n",
    "\n",
    "    \n",
    "c = Cat.speak('Hero')"
   ]
  },
  {
   "cell_type": "markdown",
   "id": "4c96290a",
   "metadata": {},
   "source": [
    "### Encapsulation\n",
    "\n",
    "There are three data access modes in encapsulation:\n",
    "\n",
    "1. *Public:* Attributes and methods accessible from outside the class.\n",
    "2. *Private:* Attributes and methods accessible only within the class (prefixing with __).\n",
    "3. *Protected:* Attributes and methods accessible within the class and its subclasses (prefixing with _)."
   ]
  },
  {
   "cell_type": "code",
   "execution_count": 112,
   "id": "a9227614",
   "metadata": {},
   "outputs": [
    {
     "name": "stdout",
     "output_type": "stream",
     "text": [
      "Edward\n",
      "Actor\n",
      "2319\n"
     ]
    }
   ],
   "source": [
    "class Person:\n",
    "    name = 'Edward'        # Public\n",
    "    _job = 'Actor'         # Protected\n",
    "    __id = 2319            # Private\n",
    "\n",
    "# How to access this data?     \n",
    "print(Person.name)\n",
    "print(Person._job)\n",
    "print(Person._Person__id)"
   ]
  },
  {
   "cell_type": "markdown",
   "id": "bc8c1319",
   "metadata": {},
   "source": [
    "### Metaclass\n",
    "\n",
    "Metaclasses are a somewhat concealed concept within the realm of object-oriented programming. Classes are instances of metaclasses. A class is created using the type metaclass by default. However, you can define your own metaclasses to tailor the class creation process according to your requirements.\n",
    "\n",
    "The 'type' metaclass is fundamental to Python. It's not only the default metaclass but also a metaclass itself. When you define a class using the class statement, Python implicitly uses type to create it."
   ]
  },
  {
   "cell_type": "code",
   "execution_count": 113,
   "id": "663daab2",
   "metadata": {},
   "outputs": [
    {
     "name": "stdout",
     "output_type": "stream",
     "text": [
      "<class 'type'>\n",
      "<class 'type'>\n"
     ]
    }
   ],
   "source": [
    "print(type(int))\n",
    "\n",
    "print(type(type))"
   ]
  },
  {
   "cell_type": "markdown",
   "id": "330dbb9b",
   "metadata": {},
   "source": [
    "To create a metaclass, just create a new class that inherits from the type class."
   ]
  },
  {
   "cell_type": "code",
   "execution_count": 114,
   "id": "eaffabca",
   "metadata": {},
   "outputs": [
    {
     "name": "stdout",
     "output_type": "stream",
     "text": [
      "<class '__main__.SampleMetaclass'>\n"
     ]
    }
   ],
   "source": [
    "class SampleMetaclass(type):\n",
    "    pass\n",
    "\n",
    "class Sample(metaclass = SampleMetaclass):\n",
    "    pass\n",
    "\n",
    "print(type(Sample))"
   ]
  },
  {
   "cell_type": "markdown",
   "id": "bdfef0d9",
   "metadata": {},
   "source": [
    "### Hash Code\n",
    "\n",
    "In Python, hashing involves converting any-sized data into fixed-size values, typically integers, termed as hash values. A hash is essentially a function that consistently maps data (x) to a unique value (y) using a specific formula. However, it's important to note that hash uniqueness is ensured only during a program's execution. If the program is re-executed, the same data might yield different hash values.\n",
    "\n",
    "Tip: All immutable objects and objects implemented with methods are hashable."
   ]
  },
  {
   "cell_type": "code",
   "execution_count": 115,
   "id": "978b9b8c",
   "metadata": {},
   "outputs": [
    {
     "name": "stdout",
     "output_type": "stream",
     "text": [
      "-7495849368909174362\n",
      "4390619796159910159\n"
     ]
    }
   ],
   "source": [
    "print(hash('17754518'))\n",
    "\n",
    "print(hash('Jupyter'))"
   ]
  },
  {
   "cell_type": "markdown",
   "id": "cef550eb",
   "metadata": {},
   "source": [
    "#### Common Uses\n",
    "\n",
    "1. *Hash Tables:* Dictionaries and sets rely on hash tables for their underlying data structure. Once these structures are created, their elements are accessed using hash values calculated by the code.\n",
    "\n",
    "2. *Comparing objects*:When comparing things, you should pay attention to two rules:\n",
    "    * If two objects are equal, then the hash of those two objects is also equal.\n",
    "    * If the hash of two objects is equal, then two objects may be equal."
   ]
  },
  {
   "cell_type": "markdown",
   "id": "c50c380e",
   "metadata": {},
   "source": [
    "### Assignment\n",
    "\n",
    "- Create a class for a person that takes the person's name, height, and weight, and calculates their BMI (Body Mass Index)."
   ]
  },
  {
   "cell_type": "markdown",
   "id": "79ea9534",
   "metadata": {},
   "source": [
    "## Review exercises\n",
    "\n",
    "- Guess the Nnumber Game\n",
    "\n",
    "    Think of a number. Give the computer a number range. The computer randomly selects a number from this range. You guide the computer to guess your number by saying if it's correct, smaller, or larger. Write a program that simulates this game, letting the user play by generating a random number and interacting with the computer to guess the correct number within the provided range."
   ]
  },
  {
   "cell_type": "code",
   "execution_count": 119,
   "id": "b9e5e825",
   "metadata": {},
   "outputs": [
    {
     "name": "stdout",
     "output_type": "stream",
     "text": [
      "Start = \n",
      "1\n",
      "End = \n",
      "50\n",
      "18\n",
      "Is this guess correct?higher\n",
      "30\n",
      "Is it correct?lower\n",
      "23\n",
      "Is it correct?yes\n",
      "Computer guessed the correct number!\n"
     ]
    }
   ],
   "source": [
    "import numpy as np\n",
    "\n",
    "# Random number between [a, b]\n",
    "a = int(input('Start = \\n'))\n",
    "b = int(input('End = \\n'))\n",
    "\n",
    "number = np.random.randint(a, b)\n",
    "print(number)\n",
    "\n",
    "\n",
    "text = input('Is this guess correct?')\n",
    "\n",
    "while text != 'yes':\n",
    "    if text == 'higher':\n",
    "        a = number\n",
    "        number = np.random.randint(number, b)\n",
    "        print(number)\n",
    "        \n",
    "    elif text == 'lower':\n",
    "        b = number\n",
    "        number = np.random.randint(a, number)\n",
    "        print(number)\n",
    "    \n",
    "    text = input('Is it correct?')\n",
    "\n",
    "print('Computer guessed the correct number!')    "
   ]
  },
  {
   "cell_type": "markdown",
   "id": "539a649e",
   "metadata": {},
   "source": [
    "- Rock, Paper, Scissors Game \n",
    "\n",
    "    Create a Python program for the classic Rock, Paper, Scissors game where the user inputs their choice and competes against a random choice generated by the computer."
   ]
  },
  {
   "cell_type": "code",
   "execution_count": 121,
   "id": "9fdbff15",
   "metadata": {},
   "outputs": [
    {
     "name": "stdout",
     "output_type": "stream",
     "text": [
      "If you wanna play write: 'Start'\n",
      "Start\n",
      "Enter a letter: (r = rock , p = paper, s = sissors)\n",
      "s\n",
      "p\n",
      "You win!\n"
     ]
    }
   ],
   "source": [
    "import random\n",
    "\n",
    "text = input('If you wanna play write: \\'Start\\'\\n')\n",
    "\n",
    "if text == 'Start':\n",
    "    user_choice = input('Enter a letter: (r = rock , p = paper, s = sissors)\\n')\n",
    "    choices = ['r', 'p', 's']\n",
    "    comp_choice = random.choice(choices)\n",
    "    print(comp_choice)\n",
    "    \n",
    "    if user_choice == comp_choice:\n",
    "        print('It\\'s a tie')\n",
    "        \n",
    "    elif (user_choice == 's' and comp_choice == 'p') or (user_choice == 'p' and comp_choice == 'r') or (user_choice == 's' and comp_choice == 'p'):\n",
    "        print('You win!')\n",
    "        \n",
    "    else:\n",
    "        print('You lose!')\n"
   ]
  },
  {
   "cell_type": "markdown",
   "id": "d9940c9a",
   "metadata": {},
   "source": [
    "- Captcha\n",
    "    \n",
    "    Write a program that generates a random mathematical operation between two random numbers and asks the user for the result."
   ]
  },
  {
   "cell_type": "code",
   "execution_count": 122,
   "id": "932b53e8",
   "metadata": {},
   "outputs": [
    {
     "name": "stdout",
     "output_type": "stream",
     "text": [
      "2 + 1 = ?\n",
      "\n",
      "Enter your answer:4\n",
      "Try Again.\n"
     ]
    }
   ],
   "source": [
    "import random\n",
    "\n",
    "def random_operation():\n",
    "    \n",
    "    a = random.randint(1, 10)\n",
    "    b = random.randint(1, 10)\n",
    "    \n",
    "    operator_list = ['+', '-', '*']\n",
    "    op = random.choice(operator_list)\n",
    "    \n",
    "    print(f'{a} {op} {b} = ?\\n')\n",
    "    \n",
    "    if op == '+':\n",
    "        result = a + b\n",
    "        return result\n",
    "    \n",
    "    elif op == '-':\n",
    "        result = a - b\n",
    "        return result\n",
    "        \n",
    "    else:\n",
    "        result = a * b\n",
    "        return result\n",
    "    \n",
    "    \n",
    "r_result = random_operation()    \n",
    "h_result = int(input('Enter your answer:'))\n",
    "\n",
    "if h_result == r_result:\n",
    "    print('That\\'s Correct!')\n",
    "\n",
    "else:\n",
    "    print('Try Again.')"
   ]
  },
  {
   "cell_type": "markdown",
   "id": "9c192b5a",
   "metadata": {},
   "source": [
    "- TV Remote Control\n",
    "    \n",
    "    Write a Python program that models a TV remote control using object-oriented programming (OOP). The program should have the following functionalities:\n",
    "\n",
    "    * Power on the TV.\n",
    "    * Power off the TV.\n",
    "    * Increase the volume of the TV.\n",
    "    * Decrease the volume of the TV.\n",
    "    * Change the channel on the TV."
   ]
  },
  {
   "cell_type": "code",
   "execution_count": 123,
   "id": "d24b96d4",
   "metadata": {},
   "outputs": [
    {
     "name": "stdout",
     "output_type": "stream",
     "text": [
      "TV is now on.\n",
      "TV is on, volume: 15, channel: 5\n",
      "Changed to channel 3.\n",
      "TV is on, volume: 15, channel: 3\n",
      "TV is on, volume: 16, channel: 3\n",
      "TV is on, volume: 14, channel: 3\n",
      "TV is now off.\n",
      "TV is off, volume: 14, channel: 3\n"
     ]
    }
   ],
   "source": [
    "class Television:\n",
    "    def __init__(self):\n",
    "        self.is_on = False\n",
    "        self.volume = 15\n",
    "        self.current_channel = 5\n",
    "\n",
    "    def turn_on(self):\n",
    "        self.is_on = True\n",
    "        print('TV is now on.')\n",
    "\n",
    "    def turn_off(self):\n",
    "        self.is_on = False\n",
    "        print('TV is now off.')\n",
    "\n",
    "    def set_channel(self, channel):\n",
    "        self.current_channel = channel\n",
    "        print(f'Changed to channel {channel}.')\n",
    "\n",
    "    def status(self):\n",
    "        print(f\"TV is {'on' if self.is_on else 'off'}, volume: {self.volume}, channel: {self.current_channel}\")\n",
    "\n",
    "\n",
    "class TV_Remote:\n",
    "    def __init__(self, tv):\n",
    "        self.tv = tv\n",
    "\n",
    "    def power_on(self):\n",
    "        self.tv.turn_on()\n",
    "\n",
    "    def power_off(self):\n",
    "        self.tv.turn_off()\n",
    "\n",
    "    def volume_up(self):\n",
    "        self.tv.volume += 1\n",
    "\n",
    "    def volume_down(self):\n",
    "        self.tv.volume -= 1\n",
    "\n",
    "    def change_channel(self, channel):\n",
    "        self.tv.set_channel(channel)\n",
    "\n",
    "\n",
    "\n",
    "\n",
    "# Usage\n",
    "tv1 = Television()\n",
    "remote = TV_Remote(tv1)\n",
    "\n",
    "# Turning on the TV\n",
    "remote.power_on()\n",
    "tv1.status()\n",
    "\n",
    "# Changing channel and adjusting volume\n",
    "remote.change_channel(3)\n",
    "tv1.status()\n",
    "remote.volume_up()\n",
    "tv1.status()\n",
    "remote.volume_down()\n",
    "remote.volume_down()\n",
    "tv1.status()\n",
    "\n",
    "# Turning off the TV\n",
    "remote.power_off()\n",
    "tv1.status()\n"
   ]
  },
  {
   "cell_type": "markdown",
   "id": "2efd4d50",
   "metadata": {},
   "source": [
    "## Python Modules\n",
    "\n",
    "### Introduction to NumPy\n",
    "\n",
    "NumPy is essential for scientific and numerical tasks in Python. It helps data professionals and engineers work efficiently with numerical data, including linear algebra, Fourier transforms, and matrices."
   ]
  },
  {
   "cell_type": "code",
   "execution_count": 124,
   "id": "762cea35",
   "metadata": {},
   "outputs": [
    {
     "name": "stdout",
     "output_type": "stream",
     "text": [
      "Requirement already satisfied: numpy in c:\\users\\amins\\anaconda3\\lib\\site-packages (1.21.5)\n"
     ]
    }
   ],
   "source": [
    "# Install NumPy library using pip\n",
    "!pip install numpy"
   ]
  },
  {
   "cell_type": "code",
   "execution_count": 125,
   "id": "3b47b641",
   "metadata": {},
   "outputs": [],
   "source": [
    "# Import module\n",
    "import numpy as np"
   ]
  },
  {
   "cell_type": "markdown",
   "id": "7652d700",
   "metadata": {},
   "source": [
    "#### Arrays\n",
    "\n",
    "NumPy's primary data structure is the ndarray (N-dimensional array). The key idea is that every cell in this table contains a number, and all the numbers are of the same kind (like all integers or all decimals). This consistency makes it super easy for performing mathematical operations and analyzing data. Arrays can have one or more dimensions (1D, 2D, 3D, etc). "
   ]
  },
  {
   "cell_type": "code",
   "execution_count": 126,
   "id": "49a54320",
   "metadata": {},
   "outputs": [
    {
     "name": "stdout",
     "output_type": "stream",
     "text": [
      "[1 2 3 4 5]\n",
      "<class 'numpy.ndarray'>\n",
      "(5,)\n"
     ]
    }
   ],
   "source": [
    "# Creating arrays\n",
    "\n",
    "a = np.array([1, 2, 3, 4, 5])\n",
    "\n",
    "print(a)\n",
    "print(type(a))\n",
    "\n",
    "# Shape of array\n",
    "print(a.shape)"
   ]
  },
  {
   "cell_type": "code",
   "execution_count": 127,
   "id": "50e593d1",
   "metadata": {},
   "outputs": [
    {
     "name": "stdout",
     "output_type": "stream",
     "text": [
      "[[0. 0. 0. 0. 0. 0.]\n",
      " [0. 0. 0. 0. 0. 0.]\n",
      " [0. 0. 0. 0. 0. 0.]\n",
      " [0. 0. 0. 0. 0. 0.]\n",
      " [0. 0. 0. 0. 0. 0.]]\n",
      "(5, 6)\n",
      "\n",
      "\n",
      "[[1. 1. 1.]\n",
      " [1. 1. 1.]\n",
      " [1. 1. 1.]]\n",
      "(3, 3)\n",
      "\n",
      "\n",
      "[[1. 0. 0. 0. 0.]\n",
      " [0. 1. 0. 0. 0.]\n",
      " [0. 0. 1. 0. 0.]\n",
      " [0. 0. 0. 1. 0.]\n",
      " [0. 0. 0. 0. 1.]]\n",
      "\n",
      "\n",
      "[[[0.969432   0.17797087 0.5354961  0.9084785 ]\n",
      "  [0.64136603 0.59283845 0.54401795 0.29251027]\n",
      "  [0.64139331 0.64637622 0.72079745 0.98417355]]\n",
      "\n",
      " [[0.33708155 0.85477445 0.8184369  0.09199399]\n",
      "  [0.92494864 0.49015    0.8157118  0.75194962]\n",
      "  [0.45272748 0.07775328 0.10842186 0.04889971]]]\n"
     ]
    }
   ],
   "source": [
    "# More ways to creating arrays\n",
    "\n",
    "# Create a 5x6 array of zeros\n",
    "a = np.zeros([5, 6])\n",
    "print(a)\n",
    "print(a.shape)\n",
    "print('\\n')\n",
    "\n",
    "# Create a 3x3 array of ones\n",
    "a = np.ones([3, 3])\n",
    "print(a)\n",
    "print(a.shape)\n",
    "print('\\n')\n",
    "\n",
    "# Create a 5x5 identity matrix\n",
    "a = np.eye(5)\n",
    "print(a)\n",
    "print('\\n')\n",
    "\n",
    "# Generate a 3D array with random samples between 0 and 1\n",
    "a = np.random.rand(2, 3, 4)\n",
    "print(a)"
   ]
  },
  {
   "cell_type": "markdown",
   "id": "9b4b6436",
   "metadata": {},
   "source": [
    "####  Indexing and Slicing:\n",
    "\n",
    "NumPy offers various ways to access elements within arrays. It's important to note that indexing begins at 0, while negative indices count from the end of the array. Additionally, you can use slicing to effortlessly extract specific portions of an array."
   ]
  },
  {
   "cell_type": "code",
   "execution_count": 128,
   "id": "c2d8fb00",
   "metadata": {},
   "outputs": [
    {
     "name": "stdout",
     "output_type": "stream",
     "text": [
      "1\n",
      "0\n",
      "[2 3 4 5]\n",
      "[ 1  2  3  4  5  6  7  8  9 10]\n"
     ]
    }
   ],
   "source": [
    "a = np.array([1, 2, 3, 4, 5, 6, 7, 8, 9, 0])\n",
    "\n",
    "print(a[0])\n",
    "print(a[-1])\n",
    "print(a[1:5])\n",
    "\n",
    "a[9] = 10\n",
    "print(a)"
   ]
  },
  {
   "cell_type": "code",
   "execution_count": 129,
   "id": "5db92778",
   "metadata": {},
   "outputs": [
    {
     "name": "stdout",
     "output_type": "stream",
     "text": [
      "[[5 1 4]\n",
      " [2 5 8]]\n",
      "[[5 1]\n",
      " [4 2]\n",
      " [5 8]]\n",
      "[[5 2]\n",
      " [1 5]\n",
      " [4 8]]\n"
     ]
    }
   ],
   "source": [
    "# np.random.randint(low, high=None, size=None, dtype=int)\n",
    "a = np.random.randint(1, 10, [2, 3])\n",
    "print(a)\n",
    "\n",
    "# Reshaping\n",
    "print(a.reshape([3, 2]))\n",
    "\n",
    "# Transpoe\n",
    "print(a.transpose())"
   ]
  },
  {
   "cell_type": "markdown",
   "id": "b8e086e5",
   "metadata": {},
   "source": [
    "#### Datatypes\n",
    "In NumPy, when you create an array, you can either let it guess the data type or explicitly specify it. NumPy offers a range of data types optimized for memory and performance, making it efficient for working with numbers and data."
   ]
  },
  {
   "cell_type": "code",
   "execution_count": 130,
   "id": "5424dfd6",
   "metadata": {},
   "outputs": [
    {
     "name": "stdout",
     "output_type": "stream",
     "text": [
      "int32\n",
      "int8\n"
     ]
    }
   ],
   "source": [
    "a = np.array([2, 4, 6, 8])\n",
    "print(a.dtype)\n",
    "\n",
    "# Changing values datatype\n",
    "a = np.array(a, dtype = np.int8)\n",
    "print(a.dtype)"
   ]
  },
  {
   "cell_type": "markdown",
   "id": "91b99f9c",
   "metadata": {},
   "source": [
    "#### Array math\n",
    "\n",
    "Array math, also known as element-wise or vectorized operations, is a fundamental concept in NumPy, a Python library for numerical and scientific computing. It allows you to perform mathematical operations on entire arrays of data, element by element, without the need for explicit loops. "
   ]
  },
  {
   "cell_type": "code",
   "execution_count": 131,
   "id": "216ca89e",
   "metadata": {},
   "outputs": [
    {
     "name": "stdout",
     "output_type": "stream",
     "text": [
      "[[2. 4. 3.]\n",
      " [6. 1. 6.]\n",
      " [1. 7. 4.]]\n",
      "[[ 1.  5.  7.]\n",
      " [ 3.  8. 13.]\n",
      " [ 4.  2.  2.]]\n",
      "[[ 3.  9. 10.]\n",
      " [ 9.  9. 19.]\n",
      " [ 5.  9.  6.]]\n",
      "[[ 3.  9. 10.]\n",
      " [ 9.  9. 19.]\n",
      " [ 5.  9.  6.]]\n",
      "\n",
      "\n",
      "[[ 1. -1. -4.]\n",
      " [ 3. -7. -7.]\n",
      " [-3.  5.  2.]]\n",
      "\n",
      "\n",
      "[[ 2. 20. 21.]\n",
      " [18.  8. 78.]\n",
      " [ 4. 14.  8.]]\n",
      "\n",
      "\n",
      "[[2.         0.8        0.42857143]\n",
      " [2.         0.125      0.46153846]\n",
      " [0.25       3.5        2.        ]]\n",
      "\n",
      "\n",
      "[[  8.  64.  27.]\n",
      " [216.   1. 216.]\n",
      " [  1. 343.  64.]]\n",
      "[[1.4142135 2.        1.7320508]\n",
      " [2.4494898 1.        2.4494898]\n",
      " [1.        2.6457512 2.       ]]\n",
      "\n",
      "\n",
      "[[-0.4161468  -0.6536436  -0.9899925 ]\n",
      " [ 0.96017027  0.5403023   0.96017027]\n",
      " [ 0.5403023   0.75390226 -0.6536436 ]]\n",
      "\n",
      "\n",
      "3.7777777\n",
      "\n",
      "\n",
      "[[ True False False]\n",
      " [ True False False]\n",
      " [False  True  True]]\n"
     ]
    }
   ],
   "source": [
    "a = np.random.randint(1, 10, [3, 3])\n",
    "a = a.astype('float32')\n",
    "print(a)\n",
    "\n",
    "b = np.array([[1, 5, 7], [3, 8, 13], [4, 2, 2]], dtype = np.float32)\n",
    "print(b)\n",
    "\n",
    "# Addtion\n",
    "print(np.add(a, b))\n",
    "# Or\n",
    "print(a + b)\n",
    "print('\\n')\n",
    "\n",
    "# Subtraction\n",
    "print(np.subtract(a, b))\n",
    "print('\\n')\n",
    "\n",
    "# Multiplication\n",
    "# m*n and n*q\n",
    "print(np.multiply(a, b))\n",
    "print('\\n')\n",
    "\n",
    "# Division\n",
    "print(np.divide(a, b))\n",
    "print('\\n')\n",
    "\n",
    "# Power each element\n",
    "print(np.power(a, 3))\n",
    "\n",
    "# Square each element\n",
    "print(np.sqrt(a))\n",
    "print('\\n')\n",
    "\n",
    "# Trigonometric functions\n",
    "# sin, cos, tan, arcsin, ... (element-wise operation)\n",
    "print(np.cos(a))\n",
    "print('\\n')\n",
    "\n",
    "# Aggregation Functions\n",
    "# min, max, sum, mean\n",
    "print(np.mean(a))\n",
    "print('\\n')\n",
    "\n",
    "# Comparisons\n",
    "print(a > b)                # Element-wise comparison"
   ]
  },
  {
   "cell_type": "markdown",
   "id": "a80b5576",
   "metadata": {},
   "source": [
    "### Matplotlib\n",
    "\n",
    "Matplotlib is a go-to Python library for creating a wide range of visualizations in fields like data science, engineering, and research. It provides flexible tools for making plots, charts, graphs, and more."
   ]
  },
  {
   "cell_type": "code",
   "execution_count": 132,
   "id": "dd71e9e7",
   "metadata": {},
   "outputs": [
    {
     "name": "stdout",
     "output_type": "stream",
     "text": [
      "Requirement already satisfied: matplotlib in c:\\users\\amins\\anaconda3\\lib\\site-packages (3.5.2)\n",
      "Requirement already satisfied: fonttools>=4.22.0 in c:\\users\\amins\\anaconda3\\lib\\site-packages (from matplotlib) (4.25.0)\n",
      "Requirement already satisfied: cycler>=0.10 in c:\\users\\amins\\anaconda3\\lib\\site-packages (from matplotlib) (0.11.0)\n",
      "Requirement already satisfied: kiwisolver>=1.0.1 in c:\\users\\amins\\anaconda3\\lib\\site-packages (from matplotlib) (1.4.2)\n",
      "Requirement already satisfied: pillow>=6.2.0 in c:\\users\\amins\\anaconda3\\lib\\site-packages (from matplotlib) (9.2.0)\n",
      "Requirement already satisfied: pyparsing>=2.2.1 in c:\\users\\amins\\anaconda3\\lib\\site-packages (from matplotlib) (3.0.9)\n",
      "Requirement already satisfied: packaging>=20.0 in c:\\users\\amins\\anaconda3\\lib\\site-packages (from matplotlib) (21.3)\n",
      "Requirement already satisfied: numpy>=1.17 in c:\\users\\amins\\anaconda3\\lib\\site-packages (from matplotlib) (1.21.5)\n",
      "Requirement already satisfied: python-dateutil>=2.7 in c:\\users\\amins\\anaconda3\\lib\\site-packages (from matplotlib) (2.8.2)\n",
      "Requirement already satisfied: six>=1.5 in c:\\users\\amins\\anaconda3\\lib\\site-packages (from python-dateutil>=2.7->matplotlib) (1.16.0)\n"
     ]
    }
   ],
   "source": [
    "# Install Matplotlib library using pip\n",
    "!pip install matplotlib"
   ]
  },
  {
   "cell_type": "markdown",
   "id": "19c096db",
   "metadata": {},
   "source": [
    "#### Pyplot\n",
    "\n",
    "Matplotlib.pyplot, often imported as 'plt' is a sub-module of the Matplotlib library. It offers a high-level interface for creating and customizing a wide range of plots and charts. Similar to MATLAB, pyplot functions help create figures, plotting areas, lines, labels, and other plot decorations, simplifying the process of data visualization in Matplotlib."
   ]
  },
  {
   "cell_type": "code",
   "execution_count": 133,
   "id": "dcde37c4",
   "metadata": {},
   "outputs": [],
   "source": [
    "# Import pyplot sub-mub-module\n",
    "import matplotlib.pyplot as plt"
   ]
  },
  {
   "cell_type": "markdown",
   "id": "f0405cf5",
   "metadata": {},
   "source": [
    "#### Plotting\n",
    "\n",
    "plt provides functions like plt.plot() for line plots, plt.scatter() for scatter plots, and many others to plot data in various ways."
   ]
  },
  {
   "cell_type": "code",
   "execution_count": 134,
   "id": "ec7d4cd0",
   "metadata": {},
   "outputs": [
    {
     "data": {
      "text/plain": [
       "[<matplotlib.lines.Line2D at 0x2023acafc70>]"
      ]
     },
     "execution_count": 134,
     "metadata": {},
     "output_type": "execute_result"
    },
    {
     "data": {
      "image/png": "[encoded data removed]",
      "text/plain": [
       "<Figure size 640x480 with 1 Axes>"
      ]
     },
     "metadata": {},
     "output_type": "display_data"
    }
   ],
   "source": [
    "x = [1, 2, 3, 4, 5]\n",
    "y = [2, 4, 6, 8, 10]\n",
    "\n",
    "plt.plot(x, y)"
   ]
  },
  {
   "cell_type": "code",
   "execution_count": 135,
   "id": "573b4533",
   "metadata": {},
   "outputs": [
    {
     "data": {
      "text/plain": [
       "<matplotlib.collections.PathCollection at 0x2023b3b05e0>"
      ]
     },
     "execution_count": 135,
     "metadata": {},
     "output_type": "execute_result"
    },
    {
     "data": {
      "image/png": "[encoded data removed]",
      "text/plain": [
       "<Figure size 640x480 with 1 Axes>"
      ]
     },
     "metadata": {},
     "output_type": "display_data"
    }
   ],
   "source": [
    "plt.scatter(x, y)"
   ]
  },
  {
   "cell_type": "code",
   "execution_count": 136,
   "id": "edc57a04",
   "metadata": {},
   "outputs": [
    {
     "data": {
      "text/plain": [
       "[<matplotlib.lines.Line2D at 0x2023b42de20>]"
      ]
     },
     "execution_count": 136,
     "metadata": {},
     "output_type": "execute_result"
    },
    {
     "data": {
      "image/png": "[encoded data removed]",
      "text/plain": [
       "<Figure size 640x480 with 1 Axes>"
      ]
     },
     "metadata": {},
     "output_type": "display_data"
    }
   ],
   "source": [
    "# Or\n",
    "plt.plot(x, y, 'o')"
   ]
  },
  {
   "cell_type": "markdown",
   "id": "afc97bab",
   "metadata": {},
   "source": [
    "***Tip:*** plt.show() is a function in Matplotlib that is used to display the current figure or plot that you have created. To ensure that all your plot commands are displayed, it's recommended to place this command at the end of your code."
   ]
  },
  {
   "cell_type": "code",
   "execution_count": 137,
   "id": "cfda8d98",
   "metadata": {},
   "outputs": [],
   "source": [
    "plt.show()"
   ]
  },
  {
   "cell_type": "markdown",
   "id": "87993edf",
   "metadata": {},
   "source": [
    "#### Customization\n",
    "\n",
    "You can customize your plots by adding titles, labels, legends, and adjusting colors, markers, and line styles"
   ]
  },
  {
   "cell_type": "code",
   "execution_count": 138,
   "id": "282d1baf",
   "metadata": {},
   "outputs": [
    {
     "data": {
      "image/png": "[encoded data removed]",
      "text/plain": [
       "<Figure size 640x480 with 1 Axes>"
      ]
     },
     "metadata": {},
     "output_type": "display_data"
    }
   ],
   "source": [
    "import numpy as np\n",
    "\n",
    "x = np.arange(0, 6*np.pi, 0.1)\n",
    "y = np.sin(x)\n",
    "z = np.cos(x)\n",
    "\n",
    "plt.plot(x, y, x, z)\n",
    "plt.title('Plot sin from 0 to 6pi')\n",
    "plt.xlabel('x')\n",
    "plt.ylabel('sin(x)')\n",
    "plt.legend(['sin(x)', 'cos(x)'])\n",
    "plt.xlim(-5, 25)\n",
    "\n",
    "plt.show()"
   ]
  },
  {
   "cell_type": "markdown",
   "id": "3d5967e3",
   "metadata": {},
   "source": [
    "#### Creating Figures and Subplots\n",
    "\n",
    "Figures serve as the canvas for your plots, while subplots allow you to organize multiple plots within a single figure."
   ]
  },
  {
   "cell_type": "code",
   "execution_count": 139,
   "id": "ba97f7e3",
   "metadata": {},
   "outputs": [
    {
     "data": {
      "text/plain": [
       "Text(0.5, 1.0, 'cos(x)')"
      ]
     },
     "execution_count": 139,
     "metadata": {},
     "output_type": "execute_result"
    },
    {
     "data": {
      "image/png": "[encoded data removed]",
      "text/plain": [
       "<Figure size 640x480 with 2 Axes>"
      ]
     },
     "metadata": {},
     "output_type": "display_data"
    }
   ],
   "source": [
    "plt.figure()\n",
    "\n",
    "ax = plt.subplot(2, 1, 1)\n",
    "ax.plot(x, y, 'm')\n",
    "ax.set_title('sin(x)')\n",
    "ax.get_xaxis().set_visible(False)\n",
    "\n",
    "ax = plt.subplot(2, 1, 2)\n",
    "ax.plot(x, z, 'c')\n",
    "ax.set_title('cos(x)')"
   ]
  },
  {
   "cell_type": "markdown",
   "id": "1f3055c5",
   "metadata": {},
   "source": [
    "### OpenCV\n",
    "\n",
    "OpenCV, short for 'Open Source Computer Vision Library,' is a widely-used open-source tool for tasks like computer vision and image processing. It's written in C++ but has interfaces for Python and other languages, making it accessible to developers and researchers of all backgrounds."
   ]
  },
  {
   "cell_type": "code",
   "execution_count": 140,
   "id": "7a775688",
   "metadata": {},
   "outputs": [
    {
     "name": "stdout",
     "output_type": "stream",
     "text": [
      "Requirement already satisfied: opencv-python in c:\\users\\amins\\anaconda3\\lib\\site-packages (4.7.0.68)\n",
      "Requirement already satisfied: numpy>=1.17.3 in c:\\users\\amins\\anaconda3\\lib\\site-packages (from opencv-python) (1.21.5)\n"
     ]
    }
   ],
   "source": [
    "# Install OpenCV library using pip\n",
    "!pip install opencv-python"
   ]
  },
  {
   "cell_type": "code",
   "execution_count": 141,
   "id": "ca72fb78",
   "metadata": {},
   "outputs": [
    {
     "name": "stdout",
     "output_type": "stream",
     "text": [
      "<class 'numpy.ndarray'>\n"
     ]
    }
   ],
   "source": [
    "# Import OpenCv module\n",
    "import cv2\n",
    "\n",
    "# Loading and Displaying Images\n",
    "\n",
    "# Load image\n",
    "img = cv2.imread('a.png')\n",
    "\n",
    "print(type(img))\n",
    "\n",
    "# Display in a window\n",
    "cv2.imshow('Image', img)\n",
    "\n",
    "# Wait for a key press and then close the window\n",
    "cv2.waitKey(0)\n",
    "cv2.destroyAllWindows()"
   ]
  },
  {
   "cell_type": "markdown",
   "id": "7404f681",
   "metadata": {},
   "source": [
    "***Tip:*** The default color space used by OpenCV when reading and displaying images is usually the BGR color space. We convert the image from BGR to RGB format to ensure proper color representation."
   ]
  },
  {
   "cell_type": "code",
   "execution_count": 142,
   "id": "18568034",
   "metadata": {},
   "outputs": [
    {
     "data": {
      "text/plain": [
       "<matplotlib.image.AxesImage at 0x2023c420430>"
      ]
     },
     "execution_count": 142,
     "metadata": {},
     "output_type": "execute_result"
    },
    {
     "data": {
      "image/png": "[encoded data removed]",
      "text/plain": [
       "<Figure size 640x480 with 1 Axes>"
      ]
     },
     "metadata": {},
     "output_type": "display_data"
    }
   ],
   "source": [
    "import matplotlib.pyplot as plt\n",
    "\n",
    "plt.imshow(img)"
   ]
  },
  {
   "cell_type": "code",
   "execution_count": 143,
   "id": "3bc85d93",
   "metadata": {},
   "outputs": [
    {
     "data": {
      "image/png": "[encoded data removed]",
      "text/plain": [
       "<Figure size 640x480 with 1 Axes>"
      ]
     },
     "metadata": {},
     "output_type": "display_data"
    }
   ],
   "source": [
    "# Convert to RGB space\n",
    "img = cv2.cvtColor(img, cv2.COLOR_BGR2RGB)\n",
    "\n",
    "plt.imshow(img)\n",
    "plt.axis('off')\n",
    "plt.show()"
   ]
  },
  {
   "cell_type": "markdown",
   "id": "09c412a1",
   "metadata": {},
   "source": [
    "#### Resizing an Image\n",
    "\n",
    "You can resize an image using the cv2.resize() function. Provide the image and the desired dimensions (width and height) as arguments.\n",
    "\n",
    "#### Cropping an Image\n",
    "\n",
    "To crop a region of interest (ROI) from an image, you can specify the coordinates of the top-left and bottom-right corners of the rectangle to be cropped."
   ]
  },
  {
   "cell_type": "code",
   "execution_count": 144,
   "id": "43d3a0eb",
   "metadata": {},
   "outputs": [
    {
     "name": "stdout",
     "output_type": "stream",
     "text": [
      "(168, 300)\n",
      "(400, 300)\n"
     ]
    },
    {
     "data": {
      "image/png": "[encoded data removed]",
      "text/plain": [
       "<Figure size 640x480 with 3 Axes>"
      ]
     },
     "metadata": {},
     "output_type": "display_data"
    }
   ],
   "source": [
    "img = cv2.imread('a.png')\n",
    "img = cv2.cvtColor(img, cv2.COLOR_BGR2GRAY)\n",
    "\n",
    "print(img.shape)\n",
    "\n",
    "# Resize the image\n",
    "resized_img = cv2.resize(img, (300, 400))\n",
    "print(resized_img.shape)\n",
    "\n",
    "# Crop an image\n",
    "x1, y1, x2, y2 = 1, 90, 110, 210\n",
    "cropped_img = img[x1:x2, y1:y2]\n",
    "\n",
    "plt.figure()\n",
    "\n",
    "ax = plt.subplot(1, 3, 1)\n",
    "plt.imshow(img, cmap = 'gray')\n",
    "ax.set_title('Original')\n",
    "ax.axis('off')\n",
    "\n",
    "ax = plt.subplot(1, 3, 2)\n",
    "plt.imshow(resized_img, cmap = 'gray')\n",
    "ax.set_title('Resized')\n",
    "ax.axis('off')\n",
    "\n",
    "ax = plt.subplot(1, 3, 3)\n",
    "plt.imshow(cropped_img, cmap = 'gray')\n",
    "ax.set_title('Cropped')\n",
    "ax.axis('off')\n",
    "\n",
    "plt.show()"
   ]
  },
  {
   "cell_type": "code",
   "execution_count": 145,
   "id": "04ebb8c6",
   "metadata": {},
   "outputs": [
    {
     "data": {
      "text/plain": [
       "True"
      ]
     },
     "execution_count": 145,
     "metadata": {},
     "output_type": "execute_result"
    }
   ],
   "source": [
    "# Savin image\n",
    "cv2.imwrite('Cropped.jpg', cropped_img)"
   ]
  },
  {
   "cell_type": "markdown",
   "id": "1941ff91",
   "metadata": {},
   "source": [
    "### Pandas\n",
    "\n",
    "Pandas is a widely-used Python library for working with structured data like tables, spreadsheets, and databases. It offers powerful tools and functions for data manipulation and analysis."
   ]
  },
  {
   "cell_type": "code",
   "execution_count": 146,
   "id": "7ede79f6",
   "metadata": {},
   "outputs": [
    {
     "name": "stdout",
     "output_type": "stream",
     "text": [
      "Requirement already satisfied: pandas in c:\\users\\amins\\anaconda3\\lib\\site-packages (1.4.4)\n",
      "Requirement already satisfied: python-dateutil>=2.8.1 in c:\\users\\amins\\anaconda3\\lib\\site-packages (from pandas) (2.8.2)\n",
      "Requirement already satisfied: pytz>=2020.1 in c:\\users\\amins\\anaconda3\\lib\\site-packages (from pandas) (2022.1)\n",
      "Requirement already satisfied: numpy>=1.18.5 in c:\\users\\amins\\anaconda3\\lib\\site-packages (from pandas) (1.21.5)\n",
      "Requirement already satisfied: six>=1.5 in c:\\users\\amins\\anaconda3\\lib\\site-packages (from python-dateutil>=2.8.1->pandas) (1.16.0)\n"
     ]
    }
   ],
   "source": [
    "# Install Pandas library using pip\n",
    "!pip install pandas "
   ]
  },
  {
   "cell_type": "code",
   "execution_count": 147,
   "id": "1510f59d",
   "metadata": {},
   "outputs": [],
   "source": [
    "# Import Pandas module\n",
    "import pandas as pd"
   ]
  },
  {
   "cell_type": "markdown",
   "id": "098847cb",
   "metadata": {},
   "source": [
    "#### Creating DataFrames\n",
    "\n",
    "DataFrames are the primary data structure in Pandas. You can create DataFrames from various data sources, including lists, dictionaries, CSV files, Excel files, and SQL databases."
   ]
  },
  {
   "cell_type": "code",
   "execution_count": 148,
   "id": "d4ec785c",
   "metadata": {},
   "outputs": [
    {
     "name": "stdout",
     "output_type": "stream",
     "text": [
      "   Rank University\n",
      "0     1        MIT\n",
      "1     2  Cambridge\n",
      "2     3     Oxford\n",
      "3     4    Harvard\n",
      "4     5   Stanford\n"
     ]
    }
   ],
   "source": [
    "data = {'Rank': [1, 2, 3, 4, 5],\n",
    "        'University': ['MIT', 'Cambridge', 'Oxford', 'Harvard', 'Stanford']}\n",
    "df = pd.DataFrame(data)\n",
    "print(df.to_string())"
   ]
  },
  {
   "cell_type": "code",
   "execution_count": 149,
   "id": "96069820",
   "metadata": {},
   "outputs": [
    {
     "name": "stdout",
     "output_type": "stream",
     "text": [
      "    Rank                                   University  Overall Score\n",
      "0      1  Massachusetts Institute of Technology (MIT)          100.0\n",
      "1      2                      University of Cambridge           99.2\n",
      "2      3                         University of Oxford           98.9\n",
      "3      4                           Harvard University           98.3\n",
      "4      5                          Stanford University            NaN\n",
      "5      6                      Imperial College London           97.8\n",
      "6      7                                   ETH Zurich            NaN\n",
      "7      3                         University of Oxford           98.9\n",
      "8      8       National University of Singapore (NUS)            NaN\n",
      "9      1  Massachusetts Institute of Technology (MIT)          100.0\n",
      "10     9                                          UCL            NaN\n",
      "11    10     University of California, Berkeley (UCB)           90.4\n"
     ]
    }
   ],
   "source": [
    "# Load a CSV file\n",
    "df = pd.read_csv('QS_ranking.csv')\n",
    "\n",
    "print(df)"
   ]
  },
  {
   "cell_type": "code",
   "execution_count": 150,
   "id": "08d700b1",
   "metadata": {},
   "outputs": [
    {
     "data": {
      "text/html": [
       "<div>\n",
       "<style scoped>\n",
       "    .dataframe tbody tr th:only-of-type {\n",
       "        vertical-align: middle;\n",
       "    }\n",
       "\n",
       "    .dataframe tbody tr th {\n",
       "        vertical-align: top;\n",
       "    }\n",
       "\n",
       "    .dataframe thead th {\n",
       "        text-align: right;\n",
       "    }\n",
       "</style>\n",
       "<table border=\"1\" class=\"dataframe\">\n",
       "  <thead>\n",
       "    <tr style=\"text-align: right;\">\n",
       "      <th></th>\n",
       "      <th>Rank</th>\n",
       "      <th>University</th>\n",
       "      <th>Overall Score</th>\n",
       "    </tr>\n",
       "  </thead>\n",
       "  <tbody>\n",
       "    <tr>\n",
       "      <th>0</th>\n",
       "      <td>1</td>\n",
       "      <td>Massachusetts Institute of Technology (MIT)</td>\n",
       "      <td>100.0</td>\n",
       "    </tr>\n",
       "  </tbody>\n",
       "</table>\n",
       "</div>"
      ],
      "text/plain": [
       "   Rank                                   University  Overall Score\n",
       "0     1  Massachusetts Institute of Technology (MIT)          100.0"
      ]
     },
     "execution_count": 150,
     "metadata": {},
     "output_type": "execute_result"
    }
   ],
   "source": [
    "# Viewing Data\n",
    "\n",
    "# Display the first n(=1) rows\n",
    "df.head(1)    "
   ]
  },
  {
   "cell_type": "code",
   "execution_count": 151,
   "id": "b56fdea3",
   "metadata": {},
   "outputs": [
    {
     "data": {
      "text/html": [
       "<div>\n",
       "<style scoped>\n",
       "    .dataframe tbody tr th:only-of-type {\n",
       "        vertical-align: middle;\n",
       "    }\n",
       "\n",
       "    .dataframe tbody tr th {\n",
       "        vertical-align: top;\n",
       "    }\n",
       "\n",
       "    .dataframe thead th {\n",
       "        text-align: right;\n",
       "    }\n",
       "</style>\n",
       "<table border=\"1\" class=\"dataframe\">\n",
       "  <thead>\n",
       "    <tr style=\"text-align: right;\">\n",
       "      <th></th>\n",
       "      <th>Rank</th>\n",
       "      <th>University</th>\n",
       "      <th>Overall Score</th>\n",
       "    </tr>\n",
       "  </thead>\n",
       "  <tbody>\n",
       "    <tr>\n",
       "      <th>10</th>\n",
       "      <td>9</td>\n",
       "      <td>UCL</td>\n",
       "      <td>NaN</td>\n",
       "    </tr>\n",
       "    <tr>\n",
       "      <th>11</th>\n",
       "      <td>10</td>\n",
       "      <td>University of California, Berkeley (UCB)</td>\n",
       "      <td>90.4</td>\n",
       "    </tr>\n",
       "  </tbody>\n",
       "</table>\n",
       "</div>"
      ],
      "text/plain": [
       "    Rank                                University  Overall Score\n",
       "10     9                                       UCL            NaN\n",
       "11    10  University of California, Berkeley (UCB)           90.4"
      ]
     },
     "execution_count": 151,
     "metadata": {},
     "output_type": "execute_result"
    }
   ],
   "source": [
    "# Display the last n(=2) rows\n",
    "df.tail(2)"
   ]
  },
  {
   "cell_type": "markdown",
   "id": "ccf9eb6b",
   "metadata": {},
   "source": [
    "#### Selecting Data\n",
    "\n",
    "Pandas provides various ways to select specific rows and columns from a DataFrame."
   ]
  },
  {
   "cell_type": "code",
   "execution_count": 152,
   "id": "e3025f98",
   "metadata": {},
   "outputs": [
    {
     "data": {
      "text/plain": [
       "0     Massachusetts Institute of Technology (MIT)\n",
       "1                         University of Cambridge\n",
       "2                            University of Oxford\n",
       "3                              Harvard University\n",
       "4                             Stanford University\n",
       "5                         Imperial College London\n",
       "6                                      ETH Zurich\n",
       "7                            University of Oxford\n",
       "8          National University of Singapore (NUS)\n",
       "9     Massachusetts Institute of Technology (MIT)\n",
       "10                                            UCL\n",
       "11       University of California, Berkeley (UCB)\n",
       "Name: University, dtype: object"
      ]
     },
     "execution_count": 152,
     "metadata": {},
     "output_type": "execute_result"
    }
   ],
   "source": [
    "# Select a single column\n",
    "df['University']"
   ]
  },
  {
   "cell_type": "code",
   "execution_count": 153,
   "id": "d414d57c",
   "metadata": {},
   "outputs": [
    {
     "data": {
      "text/html": [
       "<div>\n",
       "<style scoped>\n",
       "    .dataframe tbody tr th:only-of-type {\n",
       "        vertical-align: middle;\n",
       "    }\n",
       "\n",
       "    .dataframe tbody tr th {\n",
       "        vertical-align: top;\n",
       "    }\n",
       "\n",
       "    .dataframe thead th {\n",
       "        text-align: right;\n",
       "    }\n",
       "</style>\n",
       "<table border=\"1\" class=\"dataframe\">\n",
       "  <thead>\n",
       "    <tr style=\"text-align: right;\">\n",
       "      <th></th>\n",
       "      <th>Rank</th>\n",
       "      <th>University</th>\n",
       "    </tr>\n",
       "  </thead>\n",
       "  <tbody>\n",
       "    <tr>\n",
       "      <th>0</th>\n",
       "      <td>1</td>\n",
       "      <td>Massachusetts Institute of Technology (MIT)</td>\n",
       "    </tr>\n",
       "    <tr>\n",
       "      <th>1</th>\n",
       "      <td>2</td>\n",
       "      <td>University of Cambridge</td>\n",
       "    </tr>\n",
       "    <tr>\n",
       "      <th>2</th>\n",
       "      <td>3</td>\n",
       "      <td>University of Oxford</td>\n",
       "    </tr>\n",
       "    <tr>\n",
       "      <th>3</th>\n",
       "      <td>4</td>\n",
       "      <td>Harvard University</td>\n",
       "    </tr>\n",
       "    <tr>\n",
       "      <th>4</th>\n",
       "      <td>5</td>\n",
       "      <td>Stanford University</td>\n",
       "    </tr>\n",
       "    <tr>\n",
       "      <th>5</th>\n",
       "      <td>6</td>\n",
       "      <td>Imperial College London</td>\n",
       "    </tr>\n",
       "    <tr>\n",
       "      <th>6</th>\n",
       "      <td>7</td>\n",
       "      <td>ETH Zurich</td>\n",
       "    </tr>\n",
       "    <tr>\n",
       "      <th>7</th>\n",
       "      <td>3</td>\n",
       "      <td>University of Oxford</td>\n",
       "    </tr>\n",
       "    <tr>\n",
       "      <th>8</th>\n",
       "      <td>8</td>\n",
       "      <td>National University of Singapore (NUS)</td>\n",
       "    </tr>\n",
       "    <tr>\n",
       "      <th>9</th>\n",
       "      <td>1</td>\n",
       "      <td>Massachusetts Institute of Technology (MIT)</td>\n",
       "    </tr>\n",
       "    <tr>\n",
       "      <th>10</th>\n",
       "      <td>9</td>\n",
       "      <td>UCL</td>\n",
       "    </tr>\n",
       "    <tr>\n",
       "      <th>11</th>\n",
       "      <td>10</td>\n",
       "      <td>University of California, Berkeley (UCB)</td>\n",
       "    </tr>\n",
       "  </tbody>\n",
       "</table>\n",
       "</div>"
      ],
      "text/plain": [
       "    Rank                                   University\n",
       "0      1  Massachusetts Institute of Technology (MIT)\n",
       "1      2                      University of Cambridge\n",
       "2      3                         University of Oxford\n",
       "3      4                           Harvard University\n",
       "4      5                          Stanford University\n",
       "5      6                      Imperial College London\n",
       "6      7                                   ETH Zurich\n",
       "7      3                         University of Oxford\n",
       "8      8       National University of Singapore (NUS)\n",
       "9      1  Massachusetts Institute of Technology (MIT)\n",
       "10     9                                          UCL\n",
       "11    10     University of California, Berkeley (UCB)"
      ]
     },
     "execution_count": 153,
     "metadata": {},
     "output_type": "execute_result"
    }
   ],
   "source": [
    "# Select multiple columns\n",
    "df[['Rank', 'University']]    "
   ]
  },
  {
   "cell_type": "code",
   "execution_count": 154,
   "id": "f1381d46",
   "metadata": {},
   "outputs": [
    {
     "data": {
      "text/plain": [
       "Rank                                   6\n",
       "University       Imperial College London\n",
       "Overall Score                       97.8\n",
       "Name: 5, dtype: object"
      ]
     },
     "execution_count": 154,
     "metadata": {},
     "output_type": "execute_result"
    }
   ],
   "source": [
    "# Select a row by label\n",
    "df.loc[5]              "
   ]
  },
  {
   "cell_type": "code",
   "execution_count": 155,
   "id": "4b107610",
   "metadata": {},
   "outputs": [
    {
     "data": {
      "text/plain": [
       "Rank                              4\n",
       "University       Harvard University\n",
       "Overall Score                  98.3\n",
       "Name: 3, dtype: object"
      ]
     },
     "execution_count": 155,
     "metadata": {},
     "output_type": "execute_result"
    }
   ],
   "source": [
    "# Select a row by index\n",
    "df.iloc[3]            "
   ]
  },
  {
   "cell_type": "code",
   "execution_count": 156,
   "id": "a642feab",
   "metadata": {},
   "outputs": [
    {
     "name": "stdout",
     "output_type": "stream",
     "text": [
      "    Rank                                   University  Overall Score\n",
      "0      1  Massachusetts Institute of Technology (MIT)          100.0\n",
      "1      2                      University of Cambridge           99.2\n",
      "2      3                         University of Oxford           98.9\n",
      "3      4                           Harvard University           98.3\n",
      "5      6                      Imperial College London           97.8\n",
      "7      3                         University of Oxford           98.9\n",
      "9      1  Massachusetts Institute of Technology (MIT)          100.0\n",
      "11    10     University of California, Berkeley (UCB)           90.4\n"
     ]
    }
   ],
   "source": [
    "# Data Cleaning\n",
    "\n",
    "# Remove rows with missing values\n",
    "df1 = df.dropna()\n",
    "print(df1.to_string())"
   ]
  },
  {
   "cell_type": "code",
   "execution_count": 157,
   "id": "cd7d5941",
   "metadata": {},
   "outputs": [
    {
     "name": "stdout",
     "output_type": "stream",
     "text": [
      "    Rank                                   University  Overall Score\n",
      "0      1  Massachusetts Institute of Technology (MIT)          100.0\n",
      "1      2                      University of Cambridge           99.2\n",
      "2      3                         University of Oxford           98.9\n",
      "3      4                           Harvard University           98.3\n",
      "5      6                      Imperial College London           97.8\n",
      "11    10     University of California, Berkeley (UCB)           90.4\n"
     ]
    }
   ],
   "source": [
    "# Remove duplicate rows\n",
    "df1 = df1.drop_duplicates()\n",
    "print(df1.to_string())"
   ]
  },
  {
   "cell_type": "code",
   "execution_count": 158,
   "id": "726fab96",
   "metadata": {},
   "outputs": [
    {
     "data": {
      "text/html": [
       "<div>\n",
       "<style scoped>\n",
       "    .dataframe tbody tr th:only-of-type {\n",
       "        vertical-align: middle;\n",
       "    }\n",
       "\n",
       "    .dataframe tbody tr th {\n",
       "        vertical-align: top;\n",
       "    }\n",
       "\n",
       "    .dataframe thead th {\n",
       "        text-align: right;\n",
       "    }\n",
       "</style>\n",
       "<table border=\"1\" class=\"dataframe\">\n",
       "  <thead>\n",
       "    <tr style=\"text-align: right;\">\n",
       "      <th></th>\n",
       "      <th>Rank</th>\n",
       "      <th>University</th>\n",
       "      <th>Overall Score</th>\n",
       "    </tr>\n",
       "  </thead>\n",
       "  <tbody>\n",
       "    <tr>\n",
       "      <th>0</th>\n",
       "      <td>1</td>\n",
       "      <td>Massachusetts Institute of Technology (MIT)</td>\n",
       "      <td>100.0</td>\n",
       "    </tr>\n",
       "    <tr>\n",
       "      <th>1</th>\n",
       "      <td>2</td>\n",
       "      <td>University of Cambridge</td>\n",
       "      <td>99.2</td>\n",
       "    </tr>\n",
       "    <tr>\n",
       "      <th>2</th>\n",
       "      <td>3</td>\n",
       "      <td>University of Oxford</td>\n",
       "      <td>98.9</td>\n",
       "    </tr>\n",
       "    <tr>\n",
       "      <th>3</th>\n",
       "      <td>4</td>\n",
       "      <td>Harvard University</td>\n",
       "      <td>98.3</td>\n",
       "    </tr>\n",
       "    <tr>\n",
       "      <th>7</th>\n",
       "      <td>3</td>\n",
       "      <td>University of Oxford</td>\n",
       "      <td>98.9</td>\n",
       "    </tr>\n",
       "    <tr>\n",
       "      <th>9</th>\n",
       "      <td>1</td>\n",
       "      <td>Massachusetts Institute of Technology (MIT)</td>\n",
       "      <td>100.0</td>\n",
       "    </tr>\n",
       "  </tbody>\n",
       "</table>\n",
       "</div>"
      ],
      "text/plain": [
       "   Rank                                   University  Overall Score\n",
       "0     1  Massachusetts Institute of Technology (MIT)          100.0\n",
       "1     2                      University of Cambridge           99.2\n",
       "2     3                         University of Oxford           98.9\n",
       "3     4                           Harvard University           98.3\n",
       "7     3                         University of Oxford           98.9\n",
       "9     1  Massachusetts Institute of Technology (MIT)          100.0"
      ]
     },
     "execution_count": 158,
     "metadata": {},
     "output_type": "execute_result"
    }
   ],
   "source": [
    "# Filtering Data(based on conditions)\n",
    "df[df['Overall Score'] > 98]"
   ]
  },
  {
   "cell_type": "code",
   "execution_count": 159,
   "id": "0f73a1df",
   "metadata": {},
   "outputs": [
    {
     "data": {
      "text/plain": [
       "<AxesSubplot:title={'center':'Top University'}, xlabel='University'>"
      ]
     },
     "execution_count": 159,
     "metadata": {},
     "output_type": "execute_result"
    },
    {
     "data": {
      "image/png": "[encoded data removed]",
      "text/plain": [
       "<Figure size 640x480 with 1 Axes>"
      ]
     },
     "metadata": {},
     "output_type": "display_data"
    }
   ],
   "source": [
    "# Data Visualization\n",
    "\n",
    "df1.plot(kind='bar', x='University', y='Overall Score', title = 'Top University', color = 'powderblue')"
   ]
  },
  {
   "cell_type": "code",
   "execution_count": 160,
   "id": "1cecb0dd",
   "metadata": {},
   "outputs": [],
   "source": [
    "# Writing Data\n",
    "df1.to_excel('data.xlsx', index=False)"
   ]
  },
  {
   "cell_type": "markdown",
   "id": "4ba1417c",
   "metadata": {},
   "source": [
    "# Final Project\n",
    "\n",
    "- Write a program that takes a username and password from the user. The password must meet the following conditions:\n",
    "    1. Have more than 8 characters.\n",
    "    2. Contain at least one of these special characters: '#', '@', or '!'.\n",
    "    3. Contain at least one uppercase letter.\n",
    "\n",
    "    If the password meets these criteria, save the username along with the hashed password in a file. This file should append the username and hashed password with each program run. Additionally, ensure that usernames in the file are not duplicated (optional)."
   ]
  },
  {
   "cell_type": "markdown",
   "id": "f16c6394",
   "metadata": {},
   "source": [
    "# The End"
   ]
  },
  {
   "cell_type": "code",
   "execution_count": 164,
   "id": "bbe7746c",
   "metadata": {},
   "outputs": [
    {
     "name": "stdout",
     "output_type": "stream",
     "text": [
      "Congratulations on completing the Beginner Python Course🎉!\n",
      "\n",
      "\n",
      "You've taken the first step in your programming journey and gained essential Python skills. Now that you have a solid foundation, keep practicing, exploring new concepts, and building exciting projects. Python is a versatile language with a vast community, and there's always something new to learn.\n",
      "\n",
      "Whether you're diving deeper into Python or venturing into other programming languages, remember that learning to code is an ongoing process. Embrace the challenges, celebrate your progress, and never hesitate to seek help or explore further.\n",
      "\n",
      "Best of luck on your coding adventures❤️!\n"
     ]
    }
   ],
   "source": [
    "print('''Congratulations on completing the Beginner Python Course\\U0001f389!\n",
    "\n",
    "\n",
    "You've taken the first step in your programming journey and gained essential Python skills. Now that you have a solid foundation, keep practicing, exploring new concepts, and building exciting projects. Python is a versatile language with a vast community, and there's always something new to learn.\n",
    "\n",
    "Whether you're diving deeper into Python or venturing into other programming languages, remember that learning to code is an ongoing process. Embrace the challenges, celebrate your progress, and never hesitate to seek help or explore further.\n",
    "\n",
    "Best of luck on your coding adventures\\u2764\\uFE0F!''')"
   ]
  },
  {
   "cell_type": "markdown",
   "id": "2f4c05bc",
   "metadata": {},
   "source": [
    "## Refrences\n",
    "\n",
    "1. docs.python.org\n",
    "2. geeksforgeeks.org\n",
    "3. jadi.net/\n",
    "4. w3schools.com/python"
   ]
  }
 ],
 "metadata": {
  "kernelspec": {
   "display_name": "Python 3 (ipykernel)",
   "language": "python",
   "name": "python3"
  },
  "language_info": {
   "codemirror_mode": {
    "name": "ipython",
    "version": 3
   },
   "file_extension": ".py",
   "mimetype": "text/x-python",
   "name": "python",
   "nbconvert_exporter": "python",
   "pygments_lexer": "ipython3",
   "version": "3.9.13"
  }
 },
 "nbformat": 4,
 "nbformat_minor": 5
}
